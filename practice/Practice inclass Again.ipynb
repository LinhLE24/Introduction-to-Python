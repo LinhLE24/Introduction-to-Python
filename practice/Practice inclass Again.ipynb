{
 "cells": [
  {
   "cell_type": "markdown",
   "id": "09794479",
   "metadata": {},
   "source": [
    "____________Add Class_______________"
   ]
  },
  {
   "cell_type": "markdown",
   "id": "72d642f4",
   "metadata": {},
   "source": [
    "Ex1:\n",
    "\n",
    "Take 3 user inputs (First Name, Last Name, Age) and print them out in a the following format.\n",
    "\n",
    "My name is firstName, my last name is lastName, my age is Age"
   ]
  },
  {
   "cell_type": "code",
   "execution_count": 4,
   "id": "8aaf0b01",
   "metadata": {},
   "outputs": [
    {
     "name": "stdout",
     "output_type": "stream",
     "text": [
      "Enter your first name: LINH\n",
      "Enter your last name: LE\n",
      "Enter your age: 23\n",
      "My name is:LINH My last name is:LE My age is:23\n"
     ]
    }
   ],
   "source": [
    "class user:\n",
    "    def __init__(self,firstname,lastname,age):\n",
    "        self.firstname=firstname\n",
    "        self.lastname=lastname\n",
    "        self.age=age\n",
    "x=input(\"Enter your first name: \")\n",
    "y=input(\"Enter your last name: \")\n",
    "z=input(\"Enter your age: \")\n",
    "p1=user(x,y,z)\n",
    "\n",
    "print(f\"My name is:{p1.firstname}\",f\"My last name is:{p1.lastname}\",f\"My age is:{p1.age}\" )\n",
    "# print(\"My name is\", p1.firstname, \"my last name is\", p1.lastname, \"my age is\", p1.age) \n",
    "    \n"
   ]
  },
  {
   "cell_type": "markdown",
   "id": "aff4a576",
   "metadata": {},
   "source": [
    "Ex2:\n",
    "\n",
    "Ask the user for a temperature in Farenheit and convert it to celsius and print out in the following format:\n",
    "\n",
    "The temperature in Farenheit was \"Farenheit\", the temperature in Celcius is \"Celcius\""
   ]
  },
  {
   "cell_type": "code",
   "execution_count": 5,
   "id": "219390ea",
   "metadata": {},
   "outputs": [
    {
     "name": "stdout",
     "output_type": "stream",
     "text": [
      "temperature today in Farenheit is59\n",
      "The temperature in Farenheit was: 59 the temperature in Celcius is: 15.0\n"
     ]
    }
   ],
   "source": [
    "Farenheit=int(input(\"temperature today in Farenheit is\"))\n",
    "Celsius= 5/9 * (Farenheit-32)\n",
    "print (\"The temperature in Farenheit was:\",Farenheit,\"the temperature in Celcius is:\",Celsius )\n"
   ]
  },
  {
   "cell_type": "markdown",
   "id": "ff24e472",
   "metadata": {},
   "source": [
    "Ex3:\n",
    "\n",
    "Ask the user for 3 inputs, first name, last name, age. Store them in an array using the Array.append() method.\n",
    "\n",
    "Then print out the 3 variables from the array."
   ]
  },
  {
   "cell_type": "code",
   "execution_count": 11,
   "id": "99adf70f",
   "metadata": {},
   "outputs": [
    {
     "name": "stdout",
     "output_type": "stream",
     "text": [
      "Enter your first name: LINH\n",
      "Enter your last name: LZ\n",
      "Enter your age: 23\n",
      "LINH LZ 23\n"
     ]
    }
   ],
   "source": [
    "x=input(\"Enter your first name: \")\n",
    "y=input(\"Enter your last name: \")\n",
    "z=input(\"Enter your age: \")\n",
    "Arr=[]\n",
    "\n",
    "Arr.append(x)\n",
    "Arr.append(y)\n",
    "Arr.append(z)\n",
    "print (Arr[0],Arr[1],Arr[2])\n",
    "\n"
   ]
  },
  {
   "cell_type": "markdown",
   "id": "f7e31a04",
   "metadata": {},
   "source": [
    "Ex:4\n",
    "\n",
    "Using an already existing array that holds 3 elements:\n",
    "\n",
    "Bio=[\"Fname\", \"MiddleName, \"LastName\"]\n",
    "\n",
    "Flip any 2 elements from the array and then print out the array using python's print function\n",
    "\n",
    "eg: print(Bio)"
   ]
  },
  {
   "cell_type": "code",
   "execution_count": 13,
   "id": "724c1e45",
   "metadata": {},
   "outputs": [
    {
     "name": "stdout",
     "output_type": "stream",
     "text": [
      "Enter your first name: linh\n",
      "Enter your last name: le\n",
      "Enter your age: 24\n",
      "['linh', 'le', '24']\n",
      "['le', 'linh', '24']\n"
     ]
    }
   ],
   "source": [
    "x=input(\"Enter your first name: \")\n",
    "y=input(\"Enter your last name: \")\n",
    "z=input(\"Enter your age: \")\n",
    "Arr=[]\n",
    "\n",
    "Arr.append(x)\n",
    "Arr.append(y)\n",
    "Arr.append(z)\n",
    "print (Arr)\n",
    "tmp=Arr[0]\n",
    "Arr[0]=Arr[1]\n",
    "Arr[1]=tmp\n",
    "print (Arr)\n"
   ]
  },
  {
   "cell_type": "markdown",
   "id": "83d73370",
   "metadata": {},
   "source": [
    "Ex5:\n",
    "\n",
    "Choose any int and store it in a variable.\n",
    "\n",
    "Then print a triangle that reaches the variable you chose included.\n",
    "\n",
    "Eg:\n",
    "\n",
    "For x = 3\n",
    "\n",
    "Line 1: o\n",
    "Line 2: oo\n",
    "Line 3: ooo"
   ]
  },
  {
   "cell_type": "code",
   "execution_count": 19,
   "id": "35ce4721",
   "metadata": {},
   "outputs": [
    {
     "name": "stdout",
     "output_type": "stream",
     "text": [
      "Enter your number start:3\n",
      "*\n",
      "**\n",
      "***\n"
     ]
    }
   ],
   "source": [
    "number=int(input(\"Enter your number start:\"))\n",
    "\n",
    "for i in range(1,number+1):\n",
    "    print(\"*\"*i)"
   ]
  },
  {
   "cell_type": "markdown",
   "id": "12ac2598",
   "metadata": {},
   "source": [
    "Ex6:\n",
    "\n",
    "Same as last exercise but a pyramid and we move 2 steps at a time:\n",
    "\n",
    "Note: Each 2 \".\" are a single space.\n",
    "\n",
    "eg:\n",
    "\n",
    "x=5\n",
    "\n"
   ]
  },
  {
   "cell_type": "code",
   "execution_count": 24,
   "id": "67b6c5db",
   "metadata": {},
   "outputs": [
    {
     "name": "stdout",
     "output_type": "stream",
     "text": [
      "nhap so ngoi sao8\n",
      "        *\n",
      "       ***\n",
      "      *****\n",
      "     *******\n",
      "    *********\n",
      "   ***********\n",
      "  *************\n"
     ]
    }
   ],
   "source": [
    "x=int(input(\"nhap so ngoi sao\"))\n",
    "d=1\n",
    "for i in range (x,1,-1):\n",
    "    print(\" \"*i,end=\"\")\n",
    "    print(\"*\"*d)\n",
    "    d+=2\n",
    "# So khoang trang giam 2 lan\n",
    "# So ngoi sao duoc in ra cong them 2"
   ]
  },
  {
   "cell_type": "code",
   "execution_count": null,
   "id": "06e38d83",
   "metadata": {},
   "outputs": [],
   "source": [
    "Ex: 1\n",
    "\n",
    "Write a code that takes an already preset array of length 10\n",
    "\n",
    "And then flip each 2 elements in the list.\n",
    "\n",
    "Eg:\n",
    "\n",
    "Input:\n",
    "\n",
    "[1,4,7,2,9,21,65,23,99,52]\n",
    "\n",
    "Output:\n",
    "\n",
    "[4,1,2,7,21,9,23,65,52,99]"
   ]
  },
  {
   "cell_type": "code",
   "execution_count": 31,
   "id": "92e82882",
   "metadata": {},
   "outputs": [
    {
     "name": "stdout",
     "output_type": "stream",
     "text": [
      "[4, 1, 2, 7, 21, 9, 23, 65, 52, 99]\n"
     ]
    }
   ],
   "source": [
    "Arr=[1,4,7,2,9,21,65,23,99,52]\n",
    "for i in range(0,len(Arr),2):\n",
    "    tmp=Arr[i]\n",
    "    Arr[i]=Arr[i+1]\n",
    "    Arr[i+1]=tmp\n",
    "    \n",
    "print (Arr)  "
   ]
  },
  {
   "cell_type": "markdown",
   "id": "f0c4e82b",
   "metadata": {},
   "source": [
    "Ex: 2\n",
    "\n",
    "Building a Classrooom:\n",
    "\n",
    "Ask a user for a number of students (n):\n",
    "\n",
    "The based on that number make the user input the first name and last name of students \"n\" times. You will store each student in an array. Then all the students in an array.\n",
    "\n",
    "[[\"Mark\", \"Nourallah\"], [\"Mohamad\", \"Serhan\"]]"
   ]
  },
  {
   "cell_type": "code",
   "execution_count": 55,
   "id": "72fca0fc",
   "metadata": {
    "scrolled": true
   },
   "outputs": [
    {
     "name": "stdout",
     "output_type": "stream",
     "text": [
      "please enter number of student2\n",
      "first name isLINH\n",
      "last name is TRUC\n",
      "['LINH', 'TRUC']\n",
      "first name isZU\n",
      "last name is GU\n",
      "['ZU', 'GU']\n",
      "[['LINH', 'TRUC'], ['ZU', 'GU']]\n"
     ]
    }
   ],
   "source": [
    "NoStudent=int(input(\"please enter number of student\"))\n",
    "Arr=[]\n",
    "\n",
    "for i in range (NoStudent):\n",
    "    fname= input(\"first name is\")\n",
    "    lname=input(\"last name is \")\n",
    "    student=[]\n",
    "    student.append(fname)\n",
    "    student.append(lname)\n",
    "    print(student)\n",
    "    Arr.append(student)\n",
    "print(Arr)\n",
    "\n",
    "\n",
    "\n",
    "    "
   ]
  },
  {
   "cell_type": "markdown",
   "id": "17ba030e",
   "metadata": {},
   "source": [
    "Ex:3\n",
    "Compose a program that takes a positive integer from the user representing a year number and prints True if the year is leap and False otherwise.\n",
    "\n",
    "Hint: A leap year is a year divisible by 4 but not by 100, or is divisible by 400."
   ]
  },
  {
   "cell_type": "code",
   "execution_count": 14,
   "id": "f51c990f",
   "metadata": {},
   "outputs": [
    {
     "name": "stdout",
     "output_type": "stream",
     "text": [
      "enter a year2020\n",
      "this is a leap year\n"
     ]
    }
   ],
   "source": [
    "def count(x):\n",
    "    if(x>0):\n",
    "        if ((x%4==0 and x%100!=0) or (x%400==0)):\n",
    "            print (\"this is a leap year\")\n",
    "        else:\n",
    "             print (\"this is not a leap year\")\n",
    "    else:\n",
    "        print(\"enter year again\")\n",
    "        \n",
    "count(int(input(\"enter a year\")))"
   ]
  },
  {
   "cell_type": "markdown",
   "id": "d963a992",
   "metadata": {},
   "source": [
    "Ex:4\n",
    "The body mass index (BMI) is the ratio of the weight of a person (in kilograms) to the square of the height (in meters).\n",
    "\n",
    "Write a program that takes two command-line arguments, weight and height, computes the BMI, and prints out the corresponding BMI category:\n",
    "\n",
    "• Anorexic: less than 17.5\n",
    "• Underweight: less than 18.5\n",
    "• Ideal: greater than or equal to 18.5 but less than 25\n",
    "• Overweight: greater than or equal to 25 but less than 30\n",
    "• Obese: greater than or equal to 30 but less than 40"
   ]
  },
  {
   "cell_type": "code",
   "execution_count": 5,
   "id": "053567fe",
   "metadata": {},
   "outputs": [
    {
     "name": "stdout",
     "output_type": "stream",
     "text": [
      "Please enter your weight: 47\n",
      "Please enter your height: 163\n",
      "Anorexic\n"
     ]
    }
   ],
   "source": [
    "def Body(x,y):\n",
    "    \n",
    "    BMI = x/(y*y)\n",
    "\n",
    "    if (BMI<17.5):\n",
    "        print(\"Anorexic\")\n",
    "    elif(BMI<18.5):\n",
    "        print(\"Underweight\")\n",
    "    elif(BMI<25 and BMI>=18.5):\n",
    "        print(\"Ideal\")\n",
    "    elif(BMI>=25 and BMI<30):\n",
    "        print(\"Overweight\")\n",
    "    else:\n",
    "        print(\"Obese\")\n",
    "        \n",
    "Body(float(input(\"Please enter your weight: \")),float(input(\"Please enter your height: \")))\n"
   ]
  },
  {
   "cell_type": "markdown",
   "id": "236b7e12",
   "metadata": {},
   "source": [
    "Set a number equal to anything between 1-200\n",
    "\n",
    "Continuosly ask the user to guess the number until he gets it right\n",
    "\n",
    "If the user guessed above your number print \"Above\"\n",
    "\n",
    "If the user guessed above your number print \"Below\"\n",
    "\n",
    "The game ends when the user guesses your number"
   ]
  },
  {
   "cell_type": "code",
   "execution_count": 2,
   "id": "2c827a77",
   "metadata": {},
   "outputs": [
    {
     "name": "stdout",
     "output_type": "stream",
     "text": [
      "enter your number34\n",
      "your number is above\n",
      "34\n",
      "enter your number again56\n",
      "your number is above\n",
      "56\n",
      "enter your number again23\n",
      "your number is below\n",
      "23\n",
      "enter your number again24\n",
      "congrast!!!\n"
     ]
    }
   ],
   "source": [
    "def Guess(x):\n",
    "    number=24\n",
    "    if(x>number):\n",
    "            print(\"your number is above\")\n",
    "            print(x)\n",
    "            Guess(int(input(\"enter your number again\")))\n",
    "    elif(x<number):\n",
    "            print(\"your number is below\")\n",
    "            print(x)\n",
    "            Guess(int(input(\"enter your number again\")))\n",
    "    else:\n",
    "            print(\"congrast!!!\")\n",
    "    \n",
    "Guess(int(input(\"enter your number\")))\n",
    "    \n",
    "        "
   ]
  },
  {
   "cell_type": "markdown",
   "id": "dd50752d",
   "metadata": {},
   "source": [
    "Ex: 2 with while\n",
    "\n",
    "Building a Classrooom:\n",
    "\n",
    "Ask a user for a number of students (n):\n",
    "\n",
    "The based on that number make the user input the first name and last name of students \"n\" times. You will store each student in an array. Then all the students in an array.\n",
    "\n",
    "[[\"Mark\", \"Nourallah\"], [\"Mohamad\", \"Serhan\"]]"
   ]
  },
  {
   "cell_type": "code",
   "execution_count": 1,
   "id": "d5f240c1",
   "metadata": {},
   "outputs": [
    {
     "name": "stdout",
     "output_type": "stream",
     "text": [
      "please enter the number of student2\n",
      "enter your first nameLinh\n",
      "enter your last nametruc\n",
      "['Linh', 'truc']\n",
      "[['Linh', 'truc']]\n",
      "enter your first namequoc\n",
      "enter your last nameviet\n",
      "['quoc', 'viet']\n",
      "[['Linh', 'truc'], ['quoc', 'viet']]\n",
      "[['Linh', 'truc'], ['quoc', 'viet']]\n"
     ]
    }
   ],
   "source": [
    "No=int(input(\"please enter the number of student\"))\n",
    "box=[]\n",
    "\n",
    "while (No>0):\n",
    "    student=[]\n",
    "    fname=input(\"enter your first name\")\n",
    "    lname=input(\"enter your last name\")\n",
    "    student.append(fname)\n",
    "    student.append(lname)\n",
    "#     print(student)\n",
    "    box.append(student)\n",
    "#     print(box)\n",
    "    No-=1\n",
    "print (box)\n",
    "    "
   ]
  },
  {
   "cell_type": "code",
   "execution_count": 8,
   "id": "49aa2a6e",
   "metadata": {},
   "outputs": [
    {
     "ename": "SyntaxError",
     "evalue": "cannot assign to operator (<ipython-input-8-4f3ef0321fe2>, line 2)",
     "output_type": "error",
     "traceback": [
      "\u001b[1;36m  File \u001b[1;32m\"<ipython-input-8-4f3ef0321fe2>\"\u001b[1;36m, line \u001b[1;32m2\u001b[0m\n\u001b[1;33m    for i**2 in range(5):\u001b[0m\n\u001b[1;37m        ^\u001b[0m\n\u001b[1;31mSyntaxError\u001b[0m\u001b[1;31m:\u001b[0m cannot assign to operator\n"
     ]
    }
   ],
   "source": [
    "\n"
   ]
  },
  {
   "cell_type": "code",
   "execution_count": 10,
   "id": "f6001dde",
   "metadata": {},
   "outputs": [
    {
     "data": {
      "text/plain": [
       "7"
      ]
     },
     "execution_count": 10,
     "metadata": {},
     "output_type": "execute_result"
    }
   ],
   "source": [
    "\n",
    "def add(x, n):\n",
    "    \"\"\"\n",
    "    this function adds \"n\" to the variable x\n",
    "    \"\"\"\n",
    "    x = x + n\n",
    "    return(x)\n",
    "\n",
    "x_old = 2\n",
    "n = 5\n",
    "x_new = add(x_old, n)\n",
    "print(x_new)"
   ]
  },
  {
   "cell_type": "code",
   "execution_count": 14,
   "id": "d874399f",
   "metadata": {},
   "outputs": [
    {
     "data": {
      "text/plain": [
       "11"
      ]
     },
     "execution_count": 14,
     "metadata": {},
     "output_type": "execute_result"
    }
   ],
   "source": [
    "def sum(x,y=None):\n",
    "    if y is None:\n",
    "        x=x+1\n",
    "        return x\n",
    "    else:\n",
    "        x=x+y\n",
    "        return x\n",
    "print(sum(1))\n",
    "print(sum(1,10))\n",
    "\n",
    "    "
   ]
  },
  {
   "cell_type": "markdown",
   "id": "3e34d370",
   "metadata": {},
   "source": [
    "____________________Lecture 1________________"
   ]
  },
  {
   "cell_type": "markdown",
   "id": "5df459b5",
   "metadata": {},
   "source": [
    "Create the following list with loops:\n",
    "\n",
    "[['car', 0, 1, 4, 9, 16],\n",
    " ['bus', 1, 4, 9, 16, 25],\n",
    " ['train', 4, 9, 16, 25, 36],\n",
    " ['boat', 9, 16, 25, 36, 49]]\n",
    "\n",
    "Create a script that prints this list in the following manner:\n",
    "\n",
    "car      0    1    4    9   16\n",
    "bus      1    4    9   16   25\n",
    "train    4    9   16   25   36\n",
    "boat     9    16  25   36   49"
   ]
  },
  {
   "cell_type": "code",
   "execution_count": 52,
   "id": "daba8e97",
   "metadata": {},
   "outputs": [
    {
     "name": "stdout",
     "output_type": "stream",
     "text": [
      "['car', 0, 1, 4, 9, 16]\n",
      "[['car', 0, 1, 4, 9, 16], ['bus', 1, 4, 9, 16, 25], ['train', 4, 9, 16, 25, 36], ['train', 9, 16, 25, 36, 49]]\n",
      "car\t0\t1\t4\t9\t16\n",
      "bus\t1\t4\t9\t16\t25\n",
      "train\t4\t9\t16\t25\t36\n",
      "train\t9\t16\t25\t36\t49\n"
     ]
    }
   ],
   "source": [
    "# method 1 create a list with dependencies lists\n",
    "# remmeber lists can add/count together\n",
    "\n",
    "L1=[\"car\"]+[i**2 for i in range(5)]\n",
    "print(L1)\n",
    "L2=[\"bus\"]+[i**2 for i in range(1,6)]\n",
    "L3=[\"train\"]+[i**2 for i in range(2,7)]\n",
    "L4=[\"train\"]+[i**2 for i in range(3,8)]\n",
    "\n",
    "L=[L1,L2,L3,L4]\n",
    "print(L)\n",
    "# for i in L:\n",
    "#     for k in i:\n",
    "#         print(k,end=\"\\t\")\n",
    "#     print()\n",
    "        \n",
    "for line in L:\n",
    "    print( * line, sep = '\\t')\n",
    "  \n",
    "    "
   ]
  },
  {
   "cell_type": "code",
   "execution_count": 56,
   "id": "aacdc0e6",
   "metadata": {},
   "outputs": [
    {
     "name": "stdout",
     "output_type": "stream",
     "text": [
      "[['car', 0, 1, 4, 9, 16], ['bus', 1, 4, 9, 16, 25], ['train', 4, 9, 16, 25, 36], ['boat', 9, 16, 25, 36, 49]]\n"
     ]
    }
   ],
   "source": [
    "# method 3\n",
    "trans = [\"car\", \"bus\", \"train\", \"boat\"]\n",
    "total = []\n",
    "for index,var in enumerate(trans):\n",
    "#     var la tung phan tu trong list trans\n",
    "# for index in range(4): NO se noi tiep array\n",
    "    line=[var]+[i**2 for i in range (index,5+index)]\n",
    "    total.append(line)\n",
    "print(total)\n",
    "    \n"
   ]
  },
  {
   "cell_type": "markdown",
   "id": "b731bf5a",
   "metadata": {},
   "source": [
    "Exercice 2.\n",
    "For the following list of dictionaries, write a script that add a field registrations which is twice the number of accepted papers.\n",
    "\n",
    "confs = [{\"Name\": \"NeurIPS\", \"Date\": 2016, \"Location\": \"Barcelona\", \"acc_papers\": 300},\n",
    "             {\"Name\": \"ICML\", \"Date\": 2016, \"Location\": \"New York City\", \"acc_papers\": 450},\n",
    "             {\"Name\": \"ICML\", \"Date\": 2015, \"Location\": \"Lille\", \"acc_papers\": 250},\n",
    "             {\"Name\": \"AISTATS\", \"Date\": 2016, \"Location\": \"Cadiz\", \"acc_papers\": 100}]"
   ]
  },
  {
   "cell_type": "code",
   "execution_count": 64,
   "id": "0c75f36a",
   "metadata": {},
   "outputs": [
    {
     "name": "stdout",
     "output_type": "stream",
     "text": [
      "[{'Name': 'NeurIPS', 'Date': 2016, 'Location': 'Barcelona', 'acc_papers': 300, 'registrations': 600}, {'Name': 'ICML', 'Date': 2016, 'Location': 'New York City', 'acc_papers': 450, 'registrations': 900}, {'Name': 'ICML', 'Date': 2015, 'Location': 'Lille', 'acc_papers': 250, 'registrations': 500}, {'Name': 'AISTATS', 'Date': 2016, 'Location': 'Cadiz', 'acc_papers': 100, 'registrations': 200}]\n"
     ]
    }
   ],
   "source": [
    "confs = [{\"Name\": \"NeurIPS\", \"Date\": 2016, \"Location\": \"Barcelona\", \"acc_papers\": 300},\n",
    "             {\"Name\": \"ICML\", \"Date\": 2016, \"Location\": \"New York City\", \"acc_papers\": 450},\n",
    "             {\"Name\": \"ICML\", \"Date\": 2015, \"Location\": \"Lille\", \"acc_papers\": 250},\n",
    "             {\"Name\": \"AISTATS\", \"Date\": 2016, \"Location\": \"Cadiz\", \"acc_papers\": 100}]\n",
    "for i in confs:\n",
    "    i[\"registrations\"]=i[\"acc_papers\"]*2\n",
    "print(confs)"
   ]
  },
  {
   "cell_type": "raw",
   "id": "fd1365c9",
   "metadata": {},
   "source": [
    "Write a function include, that produces the following results:\n",
    "\n",
    ">>> l = [0]\n",
    ">>> include(l, 2)\n",
    ">>> print(l)\n",
    "[0, 2]\n",
    ">>> include(l, \"-1\")\n",
    ">>> print(l)\n",
    "[0, 2, '-1']\n",
    ">>> include(l)\n",
    ">>> print(l)\n",
    "[]"
   ]
  },
  {
   "cell_type": "code",
   "execution_count": 18,
   "id": "7274201d",
   "metadata": {},
   "outputs": [
    {
     "name": "stdout",
     "output_type": "stream",
     "text": [
      "[0, 2]\n",
      "[0, 2, '-1']\n",
      "[]\n"
     ]
    }
   ],
   "source": [
    "l=[0]\n",
    "def include(l,y=None):\n",
    "    if y is None:\n",
    "        del l[:]\n",
    "        print(l)      \n",
    "    \n",
    "    else:\n",
    "        l.append(y)\n",
    "\n",
    "        print(l)\n",
    "    \n",
    "\n",
    "include(l, 2)\n",
    "\n",
    "include(l, \"-1\")\n",
    "\n",
    "include(l)\n",
    "\n",
    "    \n",
    "        \n",
    "    "
   ]
  },
  {
   "cell_type": "markdown",
   "id": "c89a1157",
   "metadata": {},
   "source": [
    "Exercice 4.\n",
    "Create a module, that contains a function fibonacci(n) computing the \n",
    "n\n",
    "t\n",
    "h\n",
    " Fibonacci number. Then create a script using this function."
   ]
  },
  {
   "cell_type": "code",
   "execution_count": 24,
   "id": "52d8bb43",
   "metadata": {},
   "outputs": [
    {
     "data": {
      "text/plain": [
       "55"
      ]
     },
     "execution_count": 24,
     "metadata": {},
     "output_type": "execute_result"
    }
   ],
   "source": [
    "# Recursive approach\n",
    "def fibonacci(n):\n",
    "    if n<0:\n",
    "        raise ValueError(\"Negative arguments not implemented\")\n",
    "    elif n==0:\n",
    "        return 0\n",
    "    elif n==1:\n",
    "        return 1\n",
    "    else:\n",
    "        return fibonacci(n-1)+fibonacci(n-2)\n",
    "    \n",
    "fibonacci(10)\n",
    "\n",
    "        \n",
    "      "
   ]
  },
  {
   "cell_type": "markdown",
   "id": "12b01fc2",
   "metadata": {},
   "source": [
    "Change the class Point (the toy example bellow) in order to take account a 3rd coordinate z.\n",
    "\n",
    "class Point:\n",
    "    def __init__(self, x, y):          \n",
    "        self.x = x                     \n",
    "        self.y = y                     \n",
    "        self.norm = self.compute_norm()\n",
    "\n",
    "    def compute_norm(self):\n",
    "        norm = (self.x**2 + self.y**2)**(0.5) \n",
    "        return norm\n",
    "\n",
    "    def __add__(self, another_point) :\n",
    "         return Point(self.x + another_point.x, self.y + another_point.y)\n",
    "\n",
    "Then execute the following script.\n",
    "\n",
    "p1 = Point(1, -1, 1)\n",
    "p2 = Point(1, 1, 3)\n",
    "p3 = p1 + p2\n",
    "\n",
    "print(f\"p1 = ({p1.x}, {p1.y}, {p1.z})\")\n",
    "print(f\"p2 = ({p2.x}, {p2.y}, {p2.z})\")\n",
    "print(f\"p3 = ({p3.x}, {p3.y}, {p3.z})\")"
   ]
  },
  {
   "cell_type": "code",
   "execution_count": 5,
   "id": "a5f7fca4",
   "metadata": {},
   "outputs": [
    {
     "name": "stdout",
     "output_type": "stream",
     "text": [
      "p1=(1,-1,1)\n",
      "p2=(1,1,3)\n",
      "p3=(2,0,4)\n"
     ]
    }
   ],
   "source": [
    "class Point:\n",
    "    def __init__(self,x,y,z):\n",
    "        self.x=x\n",
    "        self.y=y\n",
    "        self.z=z\n",
    "        self.norm=self.compute_norm()\n",
    "        \n",
    "    def compute_norm(self):\n",
    "            norm=(self.x**2 + self.y**2 + self.z**2)**0.5\n",
    "            return norm\n",
    "        \n",
    "    def __add__(self,another_point):\n",
    "            return Point(self.x + another_point.x, self.y + another_point.y, self.z + another_point.z)\n",
    "\n",
    "p1=Point(1,-1,1)\n",
    "p2=Point(1,1,3)\n",
    "p3=p1+p2\n",
    "\n",
    "print (f\"p1=({p1.x},{p1.y},{p1.z})\")\n",
    "print (f\"p2=({p2.x},{p2.y},{p2.z})\")\n",
    "print (f\"p3=({p3.x},{p3.y},{p3.z})\")\n"
   ]
  },
  {
   "cell_type": "code",
   "execution_count": 1,
   "id": "f7a6f912",
   "metadata": {},
   "outputs": [
    {
     "name": "stdout",
     "output_type": "stream",
     "text": [
      "[[79 10 56 91]\n",
      " [15 34 45  5]\n",
      " [70 68 14 91]]\n"
     ]
    }
   ],
   "source": [
    "# toy example\n",
    "import numpy as np\n",
    "arr = np.random.randint(0, 100, (3, 4))\n",
    "print(arr)"
   ]
  },
  {
   "cell_type": "code",
   "execution_count": 2,
   "id": "1d35edce",
   "metadata": {
    "scrolled": true
   },
   "outputs": [
    {
     "name": "stdout",
     "output_type": "stream",
     "text": [
      "[[10 56]\n",
      " [34 45]]\n"
     ]
    }
   ],
   "source": [
    "print(arr[:2,1:3])\n"
   ]
  },
  {
   "cell_type": "markdown",
   "id": "92031648",
   "metadata": {},
   "source": [
    "__________3_scientific_computing___________"
   ]
  },
  {
   "cell_type": "markdown",
   "id": "51efeb07",
   "metadata": {},
   "source": [
    "Exercice 1.\n",
    "Generate the following arrays thanks to numpy methods and without explicit loops and without manually fill in all the numbers (let us name them respectively arr1, arr2 and arr3):\n",
    "\n",
    "[[ 0  4  8 12 16]\n",
    " [ 1  5  9 13 17]\n",
    " [ 2  6 10 14 18]\n",
    " [ 3  7 11 15 19]]\n",
    "[[ 0  1  4  9 16]\n",
    " [ 1  4  9 16 25]\n",
    " [ 4  9 16 25 36]\n",
    " [ 9 16 25 36 49]]\n",
    "[[0 1 0 1 0 1]\n",
    " [1 0 1 0 1 0]\n",
    " [0 1 0 1 0 1]\n",
    " [1 0 1 0 1 0]\n",
    " [0 1 0 1 0 1]\n",
    " [1 0 1 0 1 0]]"
   ]
  },
  {
   "cell_type": "code",
   "execution_count": 42,
   "id": "60e0eeaa",
   "metadata": {},
   "outputs": [
    {
     "name": "stdout",
     "output_type": "stream",
     "text": [
      "[[ 0  1  2  3]\n",
      " [ 4  5  6  7]\n",
      " [ 8  9 10 11]\n",
      " [12 13 14 15]\n",
      " [16 17 18 19]]\n",
      "[[ 0  4  8 12 16]\n",
      " [ 1  5  9 13 17]\n",
      " [ 2  6 10 14 18]\n",
      " [ 3  7 11 15 19]]\n"
     ]
    }
   ],
   "source": [
    "import numpy as np\n",
    "\n",
    "arr=np.arange(20)\n",
    "arr.resize(5,4)\n",
    "print(arr)\n",
    "arr1=arr.T\n",
    "print(arr1)\n"
   ]
  },
  {
   "cell_type": "code",
   "execution_count": 22,
   "id": "e1c1973c",
   "metadata": {
    "scrolled": true
   },
   "outputs": [
    {
     "name": "stdout",
     "output_type": "stream",
     "text": [
      "[[0 0 0 0 0]\n",
      " [0 0 0 0 0]\n",
      " [0 0 0 0 0]\n",
      " [0 0 0 0 0]]\n",
      "[[ 0  1  4  9 16]\n",
      " [ 1  4  9 16 25]\n",
      " [ 4  9 16 25 36]\n",
      " [ 9 16 25 36 49]]\n"
     ]
    }
   ],
   "source": [
    "arr2=np.zeros((4,5),int)\n",
    "print(arr2)\n",
    "# for i in arr2:\n",
    "#     print(i)\n",
    "for i in range(4):\n",
    "    arr2[i]=np.arange(i,i+5)**2\n",
    "print (arr2)\n"
   ]
  },
  {
   "cell_type": "code",
   "execution_count": 61,
   "id": "8c5eb783",
   "metadata": {},
   "outputs": [
    {
     "name": "stdout",
     "output_type": "stream",
     "text": [
      "[[0, 1], [1, 0]]\n",
      "[[0 1 0 1 0 1]\n",
      " [1 0 1 0 1 0]\n",
      " [0 1 0 1 0 1]\n",
      " [1 0 1 0 1 0]\n",
      " [0 1 0 1 0 1]\n",
      " [1 0 1 0 1 0]]\n"
     ]
    }
   ],
   "source": [
    "arr=[[0,1],[1,0]]\n",
    "\n",
    "print(lst)\n",
    "# arr3=np.array(lst)\n",
    "\n",
    "print(np.tile(arr,(3,3)))\n"
   ]
  },
  {
   "cell_type": "code",
   "execution_count": 81,
   "id": "d35c9270",
   "metadata": {},
   "outputs": [
    {
     "name": "stdout",
     "output_type": "stream",
     "text": [
      "[[0 1 2 3 4]\n",
      " [0 1 2 3 4]\n",
      " [0 1 2 3 4]\n",
      " [0 1 2 3 4]]\n",
      "[[0 0 0 0 0]\n",
      " [1 1 1 1 1]\n",
      " [2 2 2 2 2]\n",
      " [3 3 3 3 3]]\n",
      "[[ 0  1  4  9 16]\n",
      " [ 1  4  9 16 25]\n",
      " [ 4  9 16 25 36]\n",
      " [ 9 16 25 36 49]]\n"
     ]
    }
   ],
   "source": [
    "# method 2: tile method\n",
    "\n",
    "A = np.tile(np.arange(5), (4,1))\n",
    "print(A)\n",
    "B = np.tile(np.arange(4), (5,1)).T\n",
    "print(B)\n",
    "arr2 = (A+B)**2\n",
    "print(arr2)"
   ]
  },
  {
   "cell_type": "markdown",
   "id": "1d04b74c",
   "metadata": {},
   "source": [
    "[optional] Exercice 2.\n",
    "Standardize each array (arr1, arr2 and arr3) such that for each array:\n",
    "\n",
    "the mean of each column is \n",
    "0\n",
    "and the standard deviation of each column is \n",
    "1\n",
    "."
   ]
  },
  {
   "cell_type": "code",
   "execution_count": 37,
   "id": "ab272d71",
   "metadata": {
    "scrolled": false
   },
   "outputs": [
    {
     "name": "stdout",
     "output_type": "stream",
     "text": [
      "\n",
      "std of arr, axis = None :  5.766281297335398\n",
      "\n",
      "std of arr, axis = 0 :  [5.65685425 5.65685425 5.65685425 5.65685425]\n",
      "\n",
      "std of arr, axis = 1 :  [1.11803399 1.11803399 1.11803399 1.11803399 1.11803399]\n",
      "\n",
      "std of arr, axis = None :  13.154847015454038\n",
      "\n",
      "std of arr, axis = 0 :  [ 3.5         5.67890835  7.88986692 10.11187421 12.33896268]\n",
      "\n",
      "std of arr, axis = 1 :  [ 5.89915248  8.64869932 11.43678276 14.2407865 ]\n",
      "\n",
      "std of arr, axis = None :  0.5\n",
      "\n",
      "std of arr, axis = 0 :  [0.5 0.5]\n",
      "\n",
      "std of arr, axis = 1 :  [0.5 0.5]\n"
     ]
    }
   ],
   "source": [
    "# std of the flattened array \n",
    "print(\"\\nstd of arr, axis = None : \", np.std(arr1)) \n",
    "# std along the axis = 0 \n",
    "print(\"\\nstd of arr, axis = 0 : \", np.std(arr1, axis = 0)) \n",
    "   \n",
    "# std along the axis = 1 \n",
    "print(\"\\nstd of arr, axis = 1 : \", np.std(arr1, axis = 1))\n",
    "# --------------------------\n",
    "print(\"\\nstd of arr, axis = None : \", np.std(arr2)) \n",
    "# std along the axis = 0 \n",
    "print(\"\\nstd of arr, axis = 0 : \", np.std(arr2, axis = 0)) \n",
    "   \n",
    "# std along the axis = 1 \n",
    "print(\"\\nstd of arr, axis = 1 : \", np.std(arr2, axis = 1))\n",
    "# --------------------------\n",
    "print(\"\\nstd of arr, axis = None : \", np.std(arr3)) \n",
    "# std along the axis = 0 \n",
    "print(\"\\nstd of arr, axis = 0 : \", np.std(arr3, axis = 0)) \n",
    "   \n",
    "# std along the axis = 1 \n",
    "print(\"\\nstd of arr, axis = 1 : \", np.std(arr3, axis = 1))\n",
    "\n"
   ]
  },
  {
   "cell_type": "markdown",
   "id": "47df3ed5",
   "metadata": {},
   "source": [
    "Exercice 3.\n",
    "From arr1 extract the submatrix:\n",
    "\n",
    "[[ 6 18 10]\n",
    " [ 7 19 11]\n",
    " [ 5 17 9]]"
   ]
  },
  {
   "cell_type": "code",
   "execution_count": 43,
   "id": "b3172734",
   "metadata": {},
   "outputs": [
    {
     "name": "stdout",
     "output_type": "stream",
     "text": [
      "[[ 0  4  8 12 16]\n",
      " [ 1  5  9 13 17]\n",
      " [ 2  6 10 14 18]\n",
      " [ 3  7 11 15 19]]\n"
     ]
    }
   ],
   "source": [
    "print(arr1)"
   ]
  },
  {
   "cell_type": "code",
   "execution_count": 62,
   "id": "846ec5fa",
   "metadata": {},
   "outputs": [
    {
     "name": "stdout",
     "output_type": "stream",
     "text": [
      "[[ 2  6 10 14 18]\n",
      " [ 3  7 11 15 19]\n",
      " [ 1  5  9 13 17]]\n",
      "[[ 6 18 10]\n",
      " [ 7 19 11]\n",
      " [ 5 17  9]]\n"
     ]
    }
   ],
   "source": [
    "# Method 1\n",
    "# arr4=arr1[:,[1,-1,2]]\n",
    "# print(arr4)\n",
    "# arr5=arr4[[2,-1,1],:]\n",
    "# print(arr5)\n",
    "# Method 2\n",
    "arr=arr1[[2,-1,1],:]\n",
    "print(arr)\n",
    "arr=arr[:,[1,-1,2]]\n",
    "print(arr)\n",
    "\n"
   ]
  },
  {
   "cell_type": "code",
   "execution_count": 25,
   "id": "54094a0b",
   "metadata": {},
   "outputs": [
    {
     "name": "stdout",
     "output_type": "stream",
     "text": [
      "[[0 1 0 1 0 1]\n",
      " [1 0 1 0 1 0]\n",
      " [0 1 0 1 0 1]\n",
      " [1 0 1 0 1 0]\n",
      " [0 1 0 1 0 1]\n",
      " [1 0 1 0 1 0]]\n",
      "[[-1  1 -1  1 -1  1]\n",
      " [ 1 -1  1 -1  1 -1]\n",
      " [-1  1 -1  1 -1  1]\n",
      " [ 1 -1  1 -1  1 -1]\n",
      " [-1  1 -1  1 -1  1]\n",
      " [ 1 -1  1 -1  1 -1]]\n"
     ]
    }
   ],
   "source": [
    "arr=[[0,1],[1,0]]\n",
    "\n",
    "\n",
    "\n",
    "arr3=np.tile(arr,(3,3))\n",
    "print(arr3)\n",
    "arr3[arr3==0]=-1\n",
    "print(arr3)\n"
   ]
  },
  {
   "cell_type": "code",
   "execution_count": 78,
   "id": "9d3e6d14",
   "metadata": {},
   "outputs": [
    {
     "name": "stdout",
     "output_type": "stream",
     "text": [
      "[0.81924715 0.39788787 0.03699283 0.35023071 0.67685766 0.05276786\n",
      " 0.30671764 0.90815642 0.81027858 0.82995354 0.67974293 0.38436018\n",
      " 0.28066353 0.49952571 0.55537993 0.07120164 0.50147044 0.30407227\n",
      " 0.45869422 0.7611202 ]\n",
      "gia tri lon nhat la: \n",
      " 0.9081564186723609\n",
      "vi tri lon nhat la: \n",
      " 7\n",
      "[ 0.81924715  0.39788787  0.03699283  0.35023071  0.67685766  0.05276786\n",
      "  0.30671764 -1.          0.81027858 -2.          0.67974293  0.38436018\n",
      "  0.28066353  0.49952571  0.55537993  0.07120164  0.50147044  0.30407227\n",
      "  0.45869422  0.7611202 ]\n"
     ]
    }
   ],
   "source": [
    "arr=np.random.rand(20)\n",
    "print(arr)\n",
    "# Tim gia tri lon nhat trong mang\n",
    "print(\"gia tri lon nhat la: \\n\",arr.max())\n",
    "# Tim index co gia tri lon nhat trong mang\n",
    "print(\"vi tri lon nhat la: \\n\",arr.argmax())\n",
    "arr[np.argmax(arr)]=-1\n",
    "arr[np.argmax(arr)]=-2\n",
    "print(arr)\n",
    "\n",
    "\n"
   ]
  },
  {
   "cell_type": "markdown",
   "id": "8b7966ec",
   "metadata": {},
   "source": [
    "____________Lecture 4 : Data visualization with Python______________"
   ]
  },
  {
   "cell_type": "markdown",
   "id": "6e6f78b0",
   "metadata": {},
   "source": [
    "Exercice 1: line plot\n",
    "In the same Axes, plot the sine curve (in green) and the logarithmic curve (in red) in the interval \n",
    "(0,8]\n",
    "then, in the same figure, color in steelblue the area between the sine and the logarithmic curve.\n",
    "\n",
    "You should have the following graph:\n",
    "\n",
    "image-3.png"
   ]
  },
  {
   "cell_type": "code",
   "execution_count": 7,
   "id": "26e24037",
   "metadata": {},
   "outputs": [
    {
     "data": {
      "text/plain": [
       "<matplotlib.collections.PolyCollection at 0x1655b2be1f0>"
      ]
     },
     "execution_count": 7,
     "metadata": {},
     "output_type": "execute_result"
    },
    {
     "data": {
      "image/png": "[encoded data removed]",
      "text/plain": [
       "<Figure size 576x288 with 1 Axes>"
      ]
     },
     "metadata": {
      "needs_background": "light"
     },
     "output_type": "display_data"
    }
   ],
   "source": [
    "%matplotlib inline\n",
    "import matplotlib.pyplot as plt\n",
    "import numpy as np\n",
    "\n",
    "fig1,ax1=plt.subplots(figsize=(8,4))\n",
    "# Create khung \n",
    "\n",
    "x=np.linspace(0.1,8,num=200)\n",
    "y1=np.sin(x)\n",
    "y2=np.log(x)\n",
    "ax1.plot(x,y1,label=\"sin\",color=\"green\")\n",
    "ax1.plot(x,y2,label='log', color=\"red\")\n",
    "ax1.set_xlabel(\"x\")\n",
    "ax1.set_ylabel(\"y\")\n",
    "ax1.set_title(\"sine and logarithmic\")\n",
    "\n",
    "ax1.legend();\n",
    "\n",
    "ax1.fill_between(x,y1,y2,color=\"steelblue\", alpha=0.8)\n",
    "\n",
    "\n",
    "\n",
    "\n"
   ]
  },
  {
   "cell_type": "markdown",
   "id": "0b39b5fd",
   "metadata": {},
   "source": [
    "Exercice 2: scatter plot\n",
    "The following code plot a circle:\n",
    "\n",
    "import numpy as np\n",
    "import matplotlib.pyplot as plt\n",
    "\n",
    "fig, ax = plt.subplots()\n",
    "\n",
    "theta = np.linspace(0, 2*np.pi, 100)\n",
    "r = np.sqrt(1.0)\n",
    "x1 = r*np.cos(theta)\n",
    "x2 = r*np.sin(theta)\n",
    "\n",
    "ax.plot(x1, x2)\n",
    "ax.set_aspect(1);\n",
    "Generate 500 random points in the space  [−1,1]×[−1,1]  such that:\n",
    "\n",
    "the points inside the circle are colored in green\n",
    "and the points outside the circle are colored in red"
   ]
  },
  {
   "cell_type": "code",
   "execution_count": 24,
   "id": "4bc231fa",
   "metadata": {},
   "outputs": [
    {
     "data": {
      "image/png": "[encoded data removed]",
      "text/plain": [
       "<Figure size 576x288 with 1 Axes>"
      ]
     },
     "metadata": {
      "needs_background": "light"
     },
     "output_type": "display_data"
    }
   ],
   "source": [
    "%matplotlib inline\n",
    "import matplotlib.pyplot as plt\n",
    "import numpy as np\n",
    "\n",
    "fig2, ax2 = plt.subplots(figsize=(8, 4))\n",
    "\n",
    "# code for plotting the circle\n",
    "theta = np.linspace(0, 2*np.pi, 100)\n",
    "r = np.sqrt(1.0)\n",
    "x1 = r*np.cos(theta)\n",
    "x2 = r*np.sin(theta)\n",
    "ax2.plot(x1, x2)\n",
    "ax2.set_title(\"circle & random points\")\n",
    "ax2.set_aspect(1);\n",
    "\n",
    "# code for generating scatter points\n",
    "n=500\n",
    "x = np.random.uniform(-1,1,n)\n",
    "y = np.random.uniform(-1,1,n)\n",
    "\n",
    "# code for the color of each point\n",
    "colors = np.array([\"green\"]*n)\n",
    "colors[x**2 + y**2 > 1] = \"red\"\n",
    "\n",
    "# code for plotting scatter points\n",
    "ax2.scatter(x, y, c=colors, marker=\"+\");\n"
   ]
  },
  {
   "cell_type": "code",
   "execution_count": 19,
   "id": "5541eae7",
   "metadata": {},
   "outputs": [
    {
     "data": {
      "image/png": "[encoded data removed]",
      "text/plain": [
       "<Figure size 576x288 with 1 Axes>"
      ]
     },
     "metadata": {
      "needs_background": "light"
     },
     "output_type": "display_data"
    }
   ],
   "source": [
    "%matplotlib inline\n",
    "import matplotlib.pyplot as plt\n",
    "import numpy as np\n",
    "\n",
    "fig2, ax2 = plt.subplots(figsize=(8, 4))\n",
    "\n",
    "# code for plotting the circle\n",
    "theta = np.linspace(0, 2*np.pi, 100)\n",
    "r = np.sqrt(1.0)\n",
    "x1 = r*np.cos(theta)\n",
    "x2 = r*np.sin(theta)\n",
    "# chuan bi data\n",
    "ax2.plot(x1, x2)\n",
    "# lenh ve\n",
    "ax2.set_title(\"circle & random points\")\n",
    "ax2.set_aspect(1);\n",
    "\n",
    "# code for generating scatter points\n",
    "n = 500\n",
    "x = 2 * np.random.rand(n) - 1\n",
    "y = 2 * np.random.rand(n) - 1\n",
    "\n",
    "# code for the color of each point\n",
    "colors = np.array([\"green\"]*n)\n",
    "colors[x**2 + y**2 > r] = \"red\"\n",
    "\n",
    "# code for plotting scatter points\n",
    "ax2.scatter(x, y, c=colors, marker=\"+\");"
   ]
  },
  {
   "cell_type": "markdown",
   "id": "a6abc168",
   "metadata": {},
   "source": [
    "Exercice 3: subplots\n",
    "Plot side by side the graphs produced in Exercice 1 and 2."
   ]
  },
  {
   "cell_type": "code",
   "execution_count": 39,
   "id": "d9f1e542",
   "metadata": {},
   "outputs": [
    {
     "data": {
      "image/png": "[encoded data removed]",
      "text/plain": [
       "<Figure size 1152x288 with 2 Axes>"
      ]
     },
     "metadata": {
      "needs_background": "light"
     },
     "output_type": "display_data"
    }
   ],
   "source": [
    "fig3, ax3=plt.subplots(1,2,figsize=(16,4))\n",
    "#  Plot sine and log\n",
    "x=np.linspace(0.1,8,num=200)\n",
    "y1=np.sin(x)\n",
    "y2=np.log(x)\n",
    "\n",
    "ax3[0].plot(x,y1,label=\"sin\",color=\"green\")\n",
    "ax3[0].plot(x,y2,label=\"log\",color=\"red\")\n",
    "ax3[0].set_xlabel(\"x\")\n",
    "ax3[0].set_ylabel(\"y\")\n",
    "ax3[0].set_title(\"Sine and log\")\n",
    "ax3[0].legend()\n",
    "ax3[0].fill_between(x,y1,y2,color=\"steelblue\", alpha=0.8)\n",
    "\n",
    "# Plot Cricle\n",
    "theta = np.linspace(0, 2*np.pi, 100)\n",
    "r = np.sqrt(1.0)\n",
    "x1 = r*np.cos(theta)\n",
    "x2 = r*np.sin(theta)\n",
    "\n",
    "ax3[1].plot(x1, x2)\n",
    "ax3[1].set_title(\"circle & random points\")\n",
    "ax3[1].set_aspect(1);\n",
    "\n",
    "# code for generating scatter points\n",
    "n=500\n",
    "x = np.random.uniform(-1,1,n)\n",
    "y = np.random.uniform(-1,1,n)\n",
    "\n",
    "# code for the color of each point\n",
    "colors = np.array([\"green\"]*n)\n",
    "colors[x**2 + y**2 > 1] = \"red\"\n",
    "\n",
    "# code for plotting scatter points\n",
    "ax3[1].scatter(x, y, c=colors, marker=\"+\");\n"
   ]
  },
  {
   "cell_type": "code",
   "execution_count": 4,
   "id": "1e9be032",
   "metadata": {},
   "outputs": [
    {
     "data": {
      "text/html": [
       "<div>\n",
       "<style scoped>\n",
       "    .dataframe tbody tr th:only-of-type {\n",
       "        vertical-align: middle;\n",
       "    }\n",
       "\n",
       "    .dataframe tbody tr th {\n",
       "        vertical-align: top;\n",
       "    }\n",
       "\n",
       "    .dataframe thead th {\n",
       "        text-align: right;\n",
       "    }\n",
       "</style>\n",
       "<table border=\"1\" class=\"dataframe\">\n",
       "  <thead>\n",
       "    <tr style=\"text-align: right;\">\n",
       "      <th></th>\n",
       "      <th>SepalLengthCm</th>\n",
       "      <th>SepalWidthCm</th>\n",
       "      <th>PetalLengthCm</th>\n",
       "      <th>PetalWidthCm</th>\n",
       "      <th>Species</th>\n",
       "    </tr>\n",
       "    <tr>\n",
       "      <th>Id</th>\n",
       "      <th></th>\n",
       "      <th></th>\n",
       "      <th></th>\n",
       "      <th></th>\n",
       "      <th></th>\n",
       "    </tr>\n",
       "  </thead>\n",
       "  <tbody>\n",
       "    <tr>\n",
       "      <th>1</th>\n",
       "      <td>5.1</td>\n",
       "      <td>3.5</td>\n",
       "      <td>1.4</td>\n",
       "      <td>0.2</td>\n",
       "      <td>Iris-setosa</td>\n",
       "    </tr>\n",
       "    <tr>\n",
       "      <th>2</th>\n",
       "      <td>4.9</td>\n",
       "      <td>3.0</td>\n",
       "      <td>1.4</td>\n",
       "      <td>0.2</td>\n",
       "      <td>Iris-setosa</td>\n",
       "    </tr>\n",
       "    <tr>\n",
       "      <th>3</th>\n",
       "      <td>4.7</td>\n",
       "      <td>3.2</td>\n",
       "      <td>1.3</td>\n",
       "      <td>0.2</td>\n",
       "      <td>Iris-setosa</td>\n",
       "    </tr>\n",
       "    <tr>\n",
       "      <th>4</th>\n",
       "      <td>4.6</td>\n",
       "      <td>3.1</td>\n",
       "      <td>1.5</td>\n",
       "      <td>0.2</td>\n",
       "      <td>Iris-setosa</td>\n",
       "    </tr>\n",
       "    <tr>\n",
       "      <th>5</th>\n",
       "      <td>5.0</td>\n",
       "      <td>3.6</td>\n",
       "      <td>1.4</td>\n",
       "      <td>0.2</td>\n",
       "      <td>Iris-setosa</td>\n",
       "    </tr>\n",
       "    <tr>\n",
       "      <th>...</th>\n",
       "      <td>...</td>\n",
       "      <td>...</td>\n",
       "      <td>...</td>\n",
       "      <td>...</td>\n",
       "      <td>...</td>\n",
       "    </tr>\n",
       "    <tr>\n",
       "      <th>146</th>\n",
       "      <td>6.7</td>\n",
       "      <td>3.0</td>\n",
       "      <td>5.2</td>\n",
       "      <td>2.3</td>\n",
       "      <td>Iris-virginica</td>\n",
       "    </tr>\n",
       "    <tr>\n",
       "      <th>147</th>\n",
       "      <td>6.3</td>\n",
       "      <td>2.5</td>\n",
       "      <td>5.0</td>\n",
       "      <td>1.9</td>\n",
       "      <td>Iris-virginica</td>\n",
       "    </tr>\n",
       "    <tr>\n",
       "      <th>148</th>\n",
       "      <td>6.5</td>\n",
       "      <td>3.0</td>\n",
       "      <td>5.2</td>\n",
       "      <td>2.0</td>\n",
       "      <td>Iris-virginica</td>\n",
       "    </tr>\n",
       "    <tr>\n",
       "      <th>149</th>\n",
       "      <td>6.2</td>\n",
       "      <td>3.4</td>\n",
       "      <td>5.4</td>\n",
       "      <td>2.3</td>\n",
       "      <td>Iris-virginica</td>\n",
       "    </tr>\n",
       "    <tr>\n",
       "      <th>150</th>\n",
       "      <td>5.9</td>\n",
       "      <td>3.0</td>\n",
       "      <td>5.1</td>\n",
       "      <td>1.8</td>\n",
       "      <td>Iris-virginica</td>\n",
       "    </tr>\n",
       "  </tbody>\n",
       "</table>\n",
       "<p>150 rows × 5 columns</p>\n",
       "</div>"
      ],
      "text/plain": [
       "     SepalLengthCm  SepalWidthCm  PetalLengthCm  PetalWidthCm         Species\n",
       "Id                                                                           \n",
       "1              5.1           3.5            1.4           0.2     Iris-setosa\n",
       "2              4.9           3.0            1.4           0.2     Iris-setosa\n",
       "3              4.7           3.2            1.3           0.2     Iris-setosa\n",
       "4              4.6           3.1            1.5           0.2     Iris-setosa\n",
       "5              5.0           3.6            1.4           0.2     Iris-setosa\n",
       "..             ...           ...            ...           ...             ...\n",
       "146            6.7           3.0            5.2           2.3  Iris-virginica\n",
       "147            6.3           2.5            5.0           1.9  Iris-virginica\n",
       "148            6.5           3.0            5.2           2.0  Iris-virginica\n",
       "149            6.2           3.4            5.4           2.3  Iris-virginica\n",
       "150            5.9           3.0            5.1           1.8  Iris-virginica\n",
       "\n",
       "[150 rows x 5 columns]"
      ]
     },
     "execution_count": 4,
     "metadata": {},
     "output_type": "execute_result"
    }
   ],
   "source": [
    "import numpy as np\n",
    "import pandas as pd\n",
    "\n",
    "iris = pd.read_csv('data/Iris.csv', sep=',', index_col=\"Id\")\n",
    "iris"
   ]
  },
  {
   "cell_type": "markdown",
   "id": "a0b18864",
   "metadata": {},
   "source": [
    "______________Dataframe____________________"
   ]
  },
  {
   "cell_type": "raw",
   "id": "00087c4f",
   "metadata": {},
   "source": [
    "Exercice 1:\n",
    "Import the dataset defra_consumption (you can first download it from my website). You should have the following first 5 rows:\n",
    "image.png\n",
    "\n",
    "How many rows/columns, quantitative/qualitative features do we have in this dataset ?\n",
    "\n",
    "Extract the following subtable:\n",
    "\n",
    "image-2.png\n"
   ]
  },
  {
   "cell_type": "code",
   "execution_count": 4,
   "id": "594601cd",
   "metadata": {},
   "outputs": [
    {
     "data": {
      "text/html": [
       "<div>\n",
       "<style scoped>\n",
       "    .dataframe tbody tr th:only-of-type {\n",
       "        vertical-align: middle;\n",
       "    }\n",
       "\n",
       "    .dataframe tbody tr th {\n",
       "        vertical-align: top;\n",
       "    }\n",
       "\n",
       "    .dataframe thead th {\n",
       "        text-align: right;\n",
       "    }\n",
       "</style>\n",
       "<table border=\"1\" class=\"dataframe\">\n",
       "  <thead>\n",
       "    <tr style=\"text-align: right;\">\n",
       "      <th></th>\n",
       "      <th>England</th>\n",
       "      <th>Wales</th>\n",
       "      <th>Scotland</th>\n",
       "      <th>N Ireland</th>\n",
       "    </tr>\n",
       "  </thead>\n",
       "  <tbody>\n",
       "    <tr>\n",
       "      <th>Cheese</th>\n",
       "      <td>105</td>\n",
       "      <td>103</td>\n",
       "      <td>103</td>\n",
       "      <td>66</td>\n",
       "    </tr>\n",
       "    <tr>\n",
       "      <th>Carcass meat</th>\n",
       "      <td>245</td>\n",
       "      <td>227</td>\n",
       "      <td>242</td>\n",
       "      <td>267</td>\n",
       "    </tr>\n",
       "    <tr>\n",
       "      <th>Other meat</th>\n",
       "      <td>685</td>\n",
       "      <td>803</td>\n",
       "      <td>750</td>\n",
       "      <td>586</td>\n",
       "    </tr>\n",
       "    <tr>\n",
       "      <th>Fish</th>\n",
       "      <td>147</td>\n",
       "      <td>160</td>\n",
       "      <td>122</td>\n",
       "      <td>93</td>\n",
       "    </tr>\n",
       "    <tr>\n",
       "      <th>Fats and oils</th>\n",
       "      <td>193</td>\n",
       "      <td>235</td>\n",
       "      <td>184</td>\n",
       "      <td>209</td>\n",
       "    </tr>\n",
       "    <tr>\n",
       "      <th>Sugars</th>\n",
       "      <td>156</td>\n",
       "      <td>175</td>\n",
       "      <td>147</td>\n",
       "      <td>139</td>\n",
       "    </tr>\n",
       "    <tr>\n",
       "      <th>Fresh potatoes</th>\n",
       "      <td>720</td>\n",
       "      <td>874</td>\n",
       "      <td>566</td>\n",
       "      <td>1033</td>\n",
       "    </tr>\n",
       "    <tr>\n",
       "      <th>Fresh Veg</th>\n",
       "      <td>253</td>\n",
       "      <td>265</td>\n",
       "      <td>171</td>\n",
       "      <td>143</td>\n",
       "    </tr>\n",
       "    <tr>\n",
       "      <th>Other Veg</th>\n",
       "      <td>488</td>\n",
       "      <td>570</td>\n",
       "      <td>418</td>\n",
       "      <td>355</td>\n",
       "    </tr>\n",
       "    <tr>\n",
       "      <th>Processed potatoes</th>\n",
       "      <td>198</td>\n",
       "      <td>203</td>\n",
       "      <td>220</td>\n",
       "      <td>187</td>\n",
       "    </tr>\n",
       "    <tr>\n",
       "      <th>Processed Veg</th>\n",
       "      <td>360</td>\n",
       "      <td>365</td>\n",
       "      <td>337</td>\n",
       "      <td>334</td>\n",
       "    </tr>\n",
       "    <tr>\n",
       "      <th>Fresh fruit</th>\n",
       "      <td>1102</td>\n",
       "      <td>1137</td>\n",
       "      <td>957</td>\n",
       "      <td>674</td>\n",
       "    </tr>\n",
       "    <tr>\n",
       "      <th>Cereals</th>\n",
       "      <td>1472</td>\n",
       "      <td>1582</td>\n",
       "      <td>1462</td>\n",
       "      <td>1494</td>\n",
       "    </tr>\n",
       "    <tr>\n",
       "      <th>Beverages</th>\n",
       "      <td>57</td>\n",
       "      <td>73</td>\n",
       "      <td>53</td>\n",
       "      <td>47</td>\n",
       "    </tr>\n",
       "    <tr>\n",
       "      <th>Soft drinks</th>\n",
       "      <td>1374</td>\n",
       "      <td>1256</td>\n",
       "      <td>1572</td>\n",
       "      <td>1506</td>\n",
       "    </tr>\n",
       "    <tr>\n",
       "      <th>Alcoholic drinks</th>\n",
       "      <td>375</td>\n",
       "      <td>475</td>\n",
       "      <td>458</td>\n",
       "      <td>135</td>\n",
       "    </tr>\n",
       "    <tr>\n",
       "      <th>Confectionery</th>\n",
       "      <td>54</td>\n",
       "      <td>64</td>\n",
       "      <td>62</td>\n",
       "      <td>41</td>\n",
       "    </tr>\n",
       "  </tbody>\n",
       "</table>\n",
       "</div>"
      ],
      "text/plain": [
       "                    England  Wales  Scotland  N Ireland\n",
       "Cheese                  105    103       103         66\n",
       "Carcass meat            245    227       242        267\n",
       "Other meat              685    803       750        586\n",
       "Fish                    147    160       122         93\n",
       "Fats and oils           193    235       184        209\n",
       "Sugars                  156    175       147        139\n",
       "Fresh potatoes          720    874       566       1033\n",
       "Fresh Veg               253    265       171        143\n",
       "Other Veg               488    570       418        355\n",
       "Processed potatoes      198    203       220        187\n",
       "Processed Veg           360    365       337        334\n",
       "Fresh fruit            1102   1137       957        674\n",
       "Cereals                1472   1582      1462       1494\n",
       "Beverages                57     73        53         47\n",
       "Soft drinks            1374   1256      1572       1506\n",
       "Alcoholic drinks        375    475       458        135\n",
       "Confectionery            54     64        62         41"
      ]
     },
     "execution_count": 4,
     "metadata": {},
     "output_type": "execute_result"
    }
   ],
   "source": [
    "import numpy as np\n",
    "import pandas as pd\n",
    "\n",
    "defra= pd.read_csv('data/defra_consumption.csv', sep=';', index_col=0)\n",
    "# index_col=0 de bo danh so auto nhu cot id\n",
    "# sep bo dau giua cac col (, or ;)\n",
    "defra"
   ]
  },
  {
   "cell_type": "code",
   "execution_count": 5,
   "id": "57571f5d",
   "metadata": {},
   "outputs": [
    {
     "data": {
      "text/html": [
       "<div>\n",
       "<style scoped>\n",
       "    .dataframe tbody tr th:only-of-type {\n",
       "        vertical-align: middle;\n",
       "    }\n",
       "\n",
       "    .dataframe tbody tr th {\n",
       "        vertical-align: top;\n",
       "    }\n",
       "\n",
       "    .dataframe thead th {\n",
       "        text-align: right;\n",
       "    }\n",
       "</style>\n",
       "<table border=\"1\" class=\"dataframe\">\n",
       "  <thead>\n",
       "    <tr style=\"text-align: right;\">\n",
       "      <th></th>\n",
       "      <th>England</th>\n",
       "      <th>Wales</th>\n",
       "      <th>Scotland</th>\n",
       "      <th>N Ireland</th>\n",
       "    </tr>\n",
       "  </thead>\n",
       "  <tbody>\n",
       "    <tr>\n",
       "      <th>Cheese</th>\n",
       "      <td>105</td>\n",
       "      <td>103</td>\n",
       "      <td>103</td>\n",
       "      <td>66</td>\n",
       "    </tr>\n",
       "    <tr>\n",
       "      <th>Carcass meat</th>\n",
       "      <td>245</td>\n",
       "      <td>227</td>\n",
       "      <td>242</td>\n",
       "      <td>267</td>\n",
       "    </tr>\n",
       "    <tr>\n",
       "      <th>Other meat</th>\n",
       "      <td>685</td>\n",
       "      <td>803</td>\n",
       "      <td>750</td>\n",
       "      <td>586</td>\n",
       "    </tr>\n",
       "    <tr>\n",
       "      <th>Fish</th>\n",
       "      <td>147</td>\n",
       "      <td>160</td>\n",
       "      <td>122</td>\n",
       "      <td>93</td>\n",
       "    </tr>\n",
       "    <tr>\n",
       "      <th>Fats and oils</th>\n",
       "      <td>193</td>\n",
       "      <td>235</td>\n",
       "      <td>184</td>\n",
       "      <td>209</td>\n",
       "    </tr>\n",
       "  </tbody>\n",
       "</table>\n",
       "</div>"
      ],
      "text/plain": [
       "               England  Wales  Scotland  N Ireland\n",
       "Cheese             105    103       103         66\n",
       "Carcass meat       245    227       242        267\n",
       "Other meat         685    803       750        586\n",
       "Fish               147    160       122         93\n",
       "Fats and oils      193    235       184        209"
      ]
     },
     "execution_count": 5,
     "metadata": {},
     "output_type": "execute_result"
    }
   ],
   "source": [
    "#  first 5 rows:\n",
    "defra.head(n=5)"
   ]
  },
  {
   "cell_type": "code",
   "execution_count": 6,
   "id": "b1d132dc",
   "metadata": {},
   "outputs": [
    {
     "name": "stdout",
     "output_type": "stream",
     "text": [
      "(17, 4)\n",
      "England      int64\n",
      "Wales        int64\n",
      "Scotland     int64\n",
      "N Ireland    int64\n",
      "dtype: object\n"
     ]
    }
   ],
   "source": [
    "# How many rows/columns, quantitative/qualitative features do we have in this dataset ?\n",
    "print(defra.shape)\n",
    "print(defra.dtypes)\n"
   ]
  },
  {
   "cell_type": "code",
   "execution_count": 26,
   "id": "e49df34c",
   "metadata": {},
   "outputs": [
    {
     "data": {
      "text/html": [
       "<div>\n",
       "<style scoped>\n",
       "    .dataframe tbody tr th:only-of-type {\n",
       "        vertical-align: middle;\n",
       "    }\n",
       "\n",
       "    .dataframe tbody tr th {\n",
       "        vertical-align: top;\n",
       "    }\n",
       "\n",
       "    .dataframe thead th {\n",
       "        text-align: right;\n",
       "    }\n",
       "</style>\n",
       "<table border=\"1\" class=\"dataframe\">\n",
       "  <thead>\n",
       "    <tr style=\"text-align: right;\">\n",
       "      <th></th>\n",
       "      <th>England</th>\n",
       "      <th>Wales</th>\n",
       "    </tr>\n",
       "  </thead>\n",
       "  <tbody>\n",
       "    <tr>\n",
       "      <th>Cheese</th>\n",
       "      <td>105</td>\n",
       "      <td>103</td>\n",
       "    </tr>\n",
       "    <tr>\n",
       "      <th>Fats and oils</th>\n",
       "      <td>193</td>\n",
       "      <td>235</td>\n",
       "    </tr>\n",
       "    <tr>\n",
       "      <th>Other Veg</th>\n",
       "      <td>488</td>\n",
       "      <td>570</td>\n",
       "    </tr>\n",
       "    <tr>\n",
       "      <th>Cereals</th>\n",
       "      <td>1472</td>\n",
       "      <td>1582</td>\n",
       "    </tr>\n",
       "  </tbody>\n",
       "</table>\n",
       "</div>"
      ],
      "text/plain": [
       "               England  Wales\n",
       "Cheese             105    103\n",
       "Fats and oils      193    235\n",
       "Other Veg          488    570\n",
       "Cereals           1472   1582"
      ]
     },
     "execution_count": 26,
     "metadata": {},
     "output_type": "execute_result"
    }
   ],
   "source": [
    "# Extract the following subtable:\n",
    "# label indexing\n",
    "defra.loc['Cheese':'Cereals':4, :'Wales']\n",
    "# Natural indexing\n",
    "# defra.loc[['Cheese','Fats and oils','Other Veg','Cereals'], ['England','Wales']]\n",
    "# position indexing\n",
    "# defra.iloc[:13:4, : 2]"
   ]
  },
  {
   "cell_type": "markdown",
   "id": "0ab57eb3",
   "metadata": {},
   "source": [
    "With the dataset imported from exercice 1, generate the following figure:\n",
    "\n",
    "image.png"
   ]
  },
  {
   "cell_type": "code",
   "execution_count": 8,
   "id": "10df6c6f",
   "metadata": {},
   "outputs": [
    {
     "data": {
      "image/png": "[encoded data removed]",
      "text/plain": [
       "<Figure size 1008x576 with 4 Axes>"
      ]
     },
     "metadata": {
      "needs_background": "light"
     },
     "output_type": "display_data"
    }
   ],
   "source": [
    "defra.plot(subplots=True,figsize=(14,8));\n"
   ]
  },
  {
   "cell_type": "markdown",
   "id": "ff4bbbc6",
   "metadata": {},
   "source": [
    "Exercice 3: Additional plots\n",
    "Thanks to the dataset iris_plus previously generated,\n",
    "\n",
    "Plot the following horizontal bar chart:"
   ]
  },
  {
   "cell_type": "code",
   "execution_count": 3,
   "id": "b0875bfb",
   "metadata": {},
   "outputs": [
    {
     "data": {
      "text/html": [
       "<div>\n",
       "<style scoped>\n",
       "    .dataframe tbody tr th:only-of-type {\n",
       "        vertical-align: middle;\n",
       "    }\n",
       "\n",
       "    .dataframe tbody tr th {\n",
       "        vertical-align: top;\n",
       "    }\n",
       "\n",
       "    .dataframe thead th {\n",
       "        text-align: right;\n",
       "    }\n",
       "</style>\n",
       "<table border=\"1\" class=\"dataframe\">\n",
       "  <thead>\n",
       "    <tr style=\"text-align: right;\">\n",
       "      <th></th>\n",
       "      <th>SepalLengthCm</th>\n",
       "      <th>SepalWidthCm</th>\n",
       "      <th>PetalLengthCm</th>\n",
       "      <th>PetalWidthCm</th>\n",
       "      <th>Species</th>\n",
       "    </tr>\n",
       "  </thead>\n",
       "  <tbody>\n",
       "    <tr>\n",
       "      <th>lab0</th>\n",
       "      <td>5.1</td>\n",
       "      <td>3.5</td>\n",
       "      <td>1.4</td>\n",
       "      <td>0.2</td>\n",
       "      <td>Iris-setosa</td>\n",
       "    </tr>\n",
       "    <tr>\n",
       "      <th>lab1</th>\n",
       "      <td>4.9</td>\n",
       "      <td>3.0</td>\n",
       "      <td>1.4</td>\n",
       "      <td>0.2</td>\n",
       "      <td>Iris-setosa</td>\n",
       "    </tr>\n",
       "    <tr>\n",
       "      <th>lab2</th>\n",
       "      <td>4.7</td>\n",
       "      <td>3.2</td>\n",
       "      <td>1.3</td>\n",
       "      <td>0.2</td>\n",
       "      <td>Iris-setosa</td>\n",
       "    </tr>\n",
       "    <tr>\n",
       "      <th>lab3</th>\n",
       "      <td>4.6</td>\n",
       "      <td>3.1</td>\n",
       "      <td>1.5</td>\n",
       "      <td>0.2</td>\n",
       "      <td>Iris-setosa</td>\n",
       "    </tr>\n",
       "    <tr>\n",
       "      <th>lab4</th>\n",
       "      <td>5.0</td>\n",
       "      <td>3.6</td>\n",
       "      <td>1.4</td>\n",
       "      <td>0.2</td>\n",
       "      <td>Iris-setosa</td>\n",
       "    </tr>\n",
       "  </tbody>\n",
       "</table>\n",
       "</div>"
      ],
      "text/plain": [
       "      SepalLengthCm  SepalWidthCm  PetalLengthCm  PetalWidthCm      Species\n",
       "lab0            5.1           3.5            1.4           0.2  Iris-setosa\n",
       "lab1            4.9           3.0            1.4           0.2  Iris-setosa\n",
       "lab2            4.7           3.2            1.3           0.2  Iris-setosa\n",
       "lab3            4.6           3.1            1.5           0.2  Iris-setosa\n",
       "lab4            5.0           3.6            1.4           0.2  Iris-setosa"
      ]
     },
     "execution_count": 3,
     "metadata": {},
     "output_type": "execute_result"
    }
   ],
   "source": [
    "import numpy as np\n",
    "import pandas as pd\n",
    "iris = pd.read_csv('data/Iris.csv', sep=',', index_col=\"Id\")\n",
    "iris.index=[\"lab\"+ str(i) for i in range(len(iris))]\n",
    "\n",
    "# iris\n",
    "# phai goi lenh iris cuoi cung nhu la lenh print ra table\n",
    "iris.head()\n",
    "\n",
    "\n",
    "\n"
   ]
  },
  {
   "cell_type": "code",
   "execution_count": 6,
   "id": "0b301e7f",
   "metadata": {},
   "outputs": [
    {
     "data": {
      "text/html": [
       "<div>\n",
       "<style scoped>\n",
       "    .dataframe tbody tr th:only-of-type {\n",
       "        vertical-align: middle;\n",
       "    }\n",
       "\n",
       "    .dataframe tbody tr th {\n",
       "        vertical-align: top;\n",
       "    }\n",
       "\n",
       "    .dataframe thead th {\n",
       "        text-align: right;\n",
       "    }\n",
       "</style>\n",
       "<table border=\"1\" class=\"dataframe\">\n",
       "  <thead>\n",
       "    <tr style=\"text-align: right;\">\n",
       "      <th></th>\n",
       "      <th>Age</th>\n",
       "      <th>Country</th>\n",
       "    </tr>\n",
       "  </thead>\n",
       "  <tbody>\n",
       "    <tr>\n",
       "      <th>lab0</th>\n",
       "      <td>4</td>\n",
       "      <td>France</td>\n",
       "    </tr>\n",
       "    <tr>\n",
       "      <th>lab1</th>\n",
       "      <td>2</td>\n",
       "      <td>Japan</td>\n",
       "    </tr>\n",
       "    <tr>\n",
       "      <th>lab2</th>\n",
       "      <td>6</td>\n",
       "      <td>France</td>\n",
       "    </tr>\n",
       "    <tr>\n",
       "      <th>lab3</th>\n",
       "      <td>0</td>\n",
       "      <td>Italy</td>\n",
       "    </tr>\n",
       "    <tr>\n",
       "      <th>lab4</th>\n",
       "      <td>7</td>\n",
       "      <td>China</td>\n",
       "    </tr>\n",
       "    <tr>\n",
       "      <th>...</th>\n",
       "      <td>...</td>\n",
       "      <td>...</td>\n",
       "    </tr>\n",
       "    <tr>\n",
       "      <th>lab145</th>\n",
       "      <td>5</td>\n",
       "      <td>France</td>\n",
       "    </tr>\n",
       "    <tr>\n",
       "      <th>lab146</th>\n",
       "      <td>0</td>\n",
       "      <td>China</td>\n",
       "    </tr>\n",
       "    <tr>\n",
       "      <th>lab147</th>\n",
       "      <td>0</td>\n",
       "      <td>Spain</td>\n",
       "    </tr>\n",
       "    <tr>\n",
       "      <th>lab148</th>\n",
       "      <td>0</td>\n",
       "      <td>China</td>\n",
       "    </tr>\n",
       "    <tr>\n",
       "      <th>lab149</th>\n",
       "      <td>7</td>\n",
       "      <td>Japan</td>\n",
       "    </tr>\n",
       "  </tbody>\n",
       "</table>\n",
       "<p>150 rows × 2 columns</p>\n",
       "</div>"
      ],
      "text/plain": [
       "        Age Country\n",
       "lab0      4  France\n",
       "lab1      2   Japan\n",
       "lab2      6  France\n",
       "lab3      0   Italy\n",
       "lab4      7   China\n",
       "...     ...     ...\n",
       "lab145    5  France\n",
       "lab146    0   China\n",
       "lab147    0   Spain\n",
       "lab148    0   China\n",
       "lab149    7   Japan\n",
       "\n",
       "[150 rows x 2 columns]"
      ]
     },
     "execution_count": 6,
     "metadata": {},
     "output_type": "execute_result"
    }
   ],
   "source": [
    "\n",
    "countries = [\"France\", \"Italy\", \"Spain\", \"China\", \"US\", \"Japan\"]\n",
    "probabilities = [0.35, 0.2, 0.05, 0.1, 0.1, 0.2]\n",
    "\n",
    "extension=pd.DataFrame({\n",
    "    'Age': np.random.randint(0,10,len(iris)),\n",
    "   'Country': np.random.choice(countries, size=len(iris), replace=True, p=probabilities)\n",
    "#     'Country': [\"France\", \"Italy\", \"Spain\", \"China\", \"US\", \"France\", \"Spain\", \"Spain\", \"France\", \"Japan\"]\n",
    "#      Do table moi chay theo so luong row cua iris nen khong fix country duoc\n",
    "}, index=iris.index)\n",
    "extension\n"
   ]
  },
  {
   "cell_type": "code",
   "execution_count": 7,
   "id": "deb9e3a1",
   "metadata": {},
   "outputs": [
    {
     "data": {
      "text/html": [
       "<div>\n",
       "<style scoped>\n",
       "    .dataframe tbody tr th:only-of-type {\n",
       "        vertical-align: middle;\n",
       "    }\n",
       "\n",
       "    .dataframe tbody tr th {\n",
       "        vertical-align: top;\n",
       "    }\n",
       "\n",
       "    .dataframe thead th {\n",
       "        text-align: right;\n",
       "    }\n",
       "</style>\n",
       "<table border=\"1\" class=\"dataframe\">\n",
       "  <thead>\n",
       "    <tr style=\"text-align: right;\">\n",
       "      <th></th>\n",
       "      <th>SepalLengthCm</th>\n",
       "      <th>SepalWidthCm</th>\n",
       "      <th>PetalLengthCm</th>\n",
       "      <th>PetalWidthCm</th>\n",
       "      <th>Species</th>\n",
       "      <th>Age</th>\n",
       "      <th>Country</th>\n",
       "    </tr>\n",
       "  </thead>\n",
       "  <tbody>\n",
       "    <tr>\n",
       "      <th>lab0</th>\n",
       "      <td>5.1</td>\n",
       "      <td>3.5</td>\n",
       "      <td>1.4</td>\n",
       "      <td>0.2</td>\n",
       "      <td>Iris-setosa</td>\n",
       "      <td>4</td>\n",
       "      <td>France</td>\n",
       "    </tr>\n",
       "    <tr>\n",
       "      <th>lab1</th>\n",
       "      <td>4.9</td>\n",
       "      <td>3.0</td>\n",
       "      <td>1.4</td>\n",
       "      <td>0.2</td>\n",
       "      <td>Iris-setosa</td>\n",
       "      <td>2</td>\n",
       "      <td>Japan</td>\n",
       "    </tr>\n",
       "    <tr>\n",
       "      <th>lab2</th>\n",
       "      <td>4.7</td>\n",
       "      <td>3.2</td>\n",
       "      <td>1.3</td>\n",
       "      <td>0.2</td>\n",
       "      <td>Iris-setosa</td>\n",
       "      <td>6</td>\n",
       "      <td>France</td>\n",
       "    </tr>\n",
       "    <tr>\n",
       "      <th>lab3</th>\n",
       "      <td>4.6</td>\n",
       "      <td>3.1</td>\n",
       "      <td>1.5</td>\n",
       "      <td>0.2</td>\n",
       "      <td>Iris-setosa</td>\n",
       "      <td>0</td>\n",
       "      <td>Italy</td>\n",
       "    </tr>\n",
       "    <tr>\n",
       "      <th>lab4</th>\n",
       "      <td>5.0</td>\n",
       "      <td>3.6</td>\n",
       "      <td>1.4</td>\n",
       "      <td>0.2</td>\n",
       "      <td>Iris-setosa</td>\n",
       "      <td>7</td>\n",
       "      <td>China</td>\n",
       "    </tr>\n",
       "  </tbody>\n",
       "</table>\n",
       "</div>"
      ],
      "text/plain": [
       "      SepalLengthCm  SepalWidthCm  PetalLengthCm  PetalWidthCm      Species  \\\n",
       "lab0            5.1           3.5            1.4           0.2  Iris-setosa   \n",
       "lab1            4.9           3.0            1.4           0.2  Iris-setosa   \n",
       "lab2            4.7           3.2            1.3           0.2  Iris-setosa   \n",
       "lab3            4.6           3.1            1.5           0.2  Iris-setosa   \n",
       "lab4            5.0           3.6            1.4           0.2  Iris-setosa   \n",
       "\n",
       "      Age Country  \n",
       "lab0    4  France  \n",
       "lab1    2   Japan  \n",
       "lab2    6  France  \n",
       "lab3    0   Italy  \n",
       "lab4    7   China  "
      ]
     },
     "execution_count": 7,
     "metadata": {},
     "output_type": "execute_result"
    }
   ],
   "source": [
    "# generate iris_plus\n",
    "iris_plus=pd.concat((iris,extension),axis=1)\n",
    "iris_plus.head()"
   ]
  },
  {
   "cell_type": "code",
   "execution_count": 8,
   "id": "772eeb81",
   "metadata": {},
   "outputs": [
    {
     "data": {
      "image/png": "[encoded data removed]",
      "text/plain": [
       "<Figure size 432x288 with 1 Axes>"
      ]
     },
     "metadata": {
      "needs_background": "light"
     },
     "output_type": "display_data"
    }
   ],
   "source": [
    "# Plotting chart\n",
    "#  Can xac dinh duoc Group By cai gi de ve bieu do\n",
    "x=iris_plus['Country'].value_counts()\n",
    "x.plot.barh(\"Number of observations given a country\");\n",
    "# cu gan ten cua ham . plot la ve chart, co the tuy chinh thong tin trong ngoac "
   ]
  },
  {
   "cell_type": "code",
   "execution_count": 13,
   "id": "59fd9552",
   "metadata": {},
   "outputs": [
    {
     "data": {
      "text/plain": [
       "Text(0.5, 1.0, 'numerical proportion of Country in iris_plus dataset')"
      ]
     },
     "execution_count": 13,
     "metadata": {},
     "output_type": "execute_result"
    },
    {
     "data": {
      "image/png": "[encoded data removed]",
      "text/plain": [
       "<Figure size 1152x360 with 2 Axes>"
      ]
     },
     "metadata": {},
     "output_type": "display_data"
    }
   ],
   "source": [
    "import matplotlib.pyplot as plt\n",
    "\n",
    "fig, ax = plt.subplots(1, 2, figsize=(16, 5))\n",
    "# ________method1___________________\n",
    "x=iris_plus['Age'].value_counts()\n",
    "y=iris_plus['Country'].value_counts()\n",
    "x.plot.pie(x=\"Age\",ax=ax[0])\n",
    "y.plot.pie(x=\"Country\",ax=ax[1])\n",
    "ax[0].set_title(\"numerical proportion of Age in iris_plus dataset\")\n",
    "ax[1].set_title(\"numerical proportion of Country in iris_plus dataset\")\n",
    "# ________method2 using Enuerate___________________\n",
    "# for i, var in enumerate([\"Age\", \"Country\"]):\n",
    "#     iris_plus[var].value_counts().plot.pie(x=var, ax=ax[i])\n",
    "#     ax[i].set_title(f\"numerical proportion of {var} in iris_plus dataset\");"
   ]
  },
  {
   "cell_type": "markdown",
   "id": "a40c3ea0",
   "metadata": {},
   "source": [
    "Exercice 4:\n",
    "From the dataset iris (or iris_plus), find out the average values of SepalLength and SepalWidth of all three species."
   ]
  },
  {
   "cell_type": "code",
   "execution_count": 18,
   "id": "f09415c0",
   "metadata": {},
   "outputs": [
    {
     "data": {
      "text/html": [
       "<div>\n",
       "<style scoped>\n",
       "    .dataframe tbody tr th:only-of-type {\n",
       "        vertical-align: middle;\n",
       "    }\n",
       "\n",
       "    .dataframe tbody tr th {\n",
       "        vertical-align: top;\n",
       "    }\n",
       "\n",
       "    .dataframe thead th {\n",
       "        text-align: right;\n",
       "    }\n",
       "</style>\n",
       "<table border=\"1\" class=\"dataframe\">\n",
       "  <thead>\n",
       "    <tr style=\"text-align: right;\">\n",
       "      <th></th>\n",
       "      <th>SepalLengthCm</th>\n",
       "      <th>SepalWidthCm</th>\n",
       "    </tr>\n",
       "    <tr>\n",
       "      <th>Species</th>\n",
       "      <th></th>\n",
       "      <th></th>\n",
       "    </tr>\n",
       "  </thead>\n",
       "  <tbody>\n",
       "    <tr>\n",
       "      <th>Iris-setosa</th>\n",
       "      <td>5.006</td>\n",
       "      <td>3.418</td>\n",
       "    </tr>\n",
       "    <tr>\n",
       "      <th>Iris-versicolor</th>\n",
       "      <td>5.936</td>\n",
       "      <td>2.770</td>\n",
       "    </tr>\n",
       "    <tr>\n",
       "      <th>Iris-virginica</th>\n",
       "      <td>6.588</td>\n",
       "      <td>2.974</td>\n",
       "    </tr>\n",
       "  </tbody>\n",
       "</table>\n",
       "</div>"
      ],
      "text/plain": [
       "                 SepalLengthCm  SepalWidthCm\n",
       "Species                                     \n",
       "Iris-setosa              5.006         3.418\n",
       "Iris-versicolor          5.936         2.770\n",
       "Iris-virginica           6.588         2.974"
      ]
     },
     "execution_count": 18,
     "metadata": {},
     "output_type": "execute_result"
    }
   ],
   "source": [
    "iris_plus[[\"SepalLengthCm\",\"SepalWidthCm\",\"Species\"]].groupby(\"Species\").mean()"
   ]
  },
  {
   "cell_type": "code",
   "execution_count": 24,
   "id": "fa661f2e",
   "metadata": {},
   "outputs": [
    {
     "name": "stdout",
     "output_type": "stream",
     "text": [
      "\n",
      "mean for Iris-setosa\n",
      "SepalLengthCm    5.006\n",
      "SepalWidthCm     3.418\n",
      "dtype: float64\n",
      "\n",
      "mean for Iris-versicolor\n",
      "SepalLengthCm    5.936\n",
      "SepalWidthCm     2.770\n",
      "dtype: float64\n",
      "\n",
      "mean for Iris-virginica\n",
      "SepalLengthCm    6.588\n",
      "SepalWidthCm     2.974\n",
      "dtype: float64\n"
     ]
    }
   ],
   "source": [
    "# alternatively\n",
    "for sp in [\"Iris-setosa\", \"Iris-versicolor\", \"Iris-virginica\"]:\n",
    "    print(\"\\nmean for \" + sp)\n",
    "    print(iris_plus.loc[ iris_plus[\"Species\"] == sp ,[\"SepalLengthCm\", \"SepalWidthCm\"]].mean(axis=0))"
   ]
  },
  {
   "cell_type": "markdown",
   "id": "e9281bc9",
   "metadata": {},
   "source": [
    "______________6 ADDITIONAL EXERCICES____________"
   ]
  },
  {
   "cell_type": "code",
   "execution_count": null,
   "id": "7ebfafd8",
   "metadata": {},
   "outputs": [],
   "source": [
    "paris = [{\"District\": 3, \"Date\":2007, \"Pop\":34576},\n",
    "         {\"District\": 5, \"Date\":2007, \"Pop\":62664},\n",
    "         {\"District\": 6, \"Date\":2007, \"Pop\":45332},\n",
    "         {\"District\": 7, \"Date\":2007, \"Pop\":57410},\n",
    "         {\"District\": 8, \"Date\":2007, \"Pop\":39165},\n",
    "         {\"District\": 9, \"Date\":2007, \"Pop\":58632},\n",
    "         {\"District\": 10, \"Date\":2007, \"Pop\":93373},\n",
    "         {\"District\": 11, \"Date\":2007, \"Pop\":151421},\n",
    "         {\"District\": 12, \"Date\":2007, \"Pop\":142425},\n",
    "         {\"District\": 13, \"Date\":2007, \"Pop\":179213},\n",
    "         {\"District\": 14, \"Date\":2007, \"Pop\":134382},\n",
    "         {\"District\": 15, \"Date\":2007, \"Pop\":232247},\n",
    "         {\"District\": 16, \"Date\":2007, \"Pop\":159706},\n",
    "         {\"District\": 17, \"Date\":2007, \"Pop\":164673},\n",
    "         {\"District\": 18, \"Date\":2007, \"Pop\":191523},\n",
    "         {\"District\": 19, \"Date\":2007, \"Pop\":184038},\n",
    "         {\"District\": 20, \"Date\":2007, \"Pop\":194018}]"
   ]
  },
  {
   "cell_type": "code",
   "execution_count": null,
   "id": "fba404c8",
   "metadata": {},
   "outputs": [],
   "source": [
    "# write a script that add a field Rounded_pop which discard the last 3 digits. For example we transform the value 34576 to 34"
   ]
  },
  {
   "cell_type": "raw",
   "id": "aa2e897b",
   "metadata": {},
   "source": [
    "Exercice 4: arrays\n",
    "Generate the following array without explicit loops and without manually fill in the numbers. We will name it arr1:\n",
    "[[  0  25 100 225 400]\n",
    " [  1  36 121 256 441]\n",
    " [  4  49 144 289 484]\n",
    " [  9  64 169 324 529]\n",
    " [ 16  81 196 361 576]]"
   ]
  },
  {
   "cell_type": "code",
   "execution_count": 31,
   "id": "e878b5f4",
   "metadata": {},
   "outputs": [
    {
     "name": "stdout",
     "output_type": "stream",
     "text": [
      "[[  0  25 100 225 400]\n",
      " [  1  36 121 256 441]\n",
      " [  4  49 144 289 484]\n",
      " [  9  64 169 324 529]\n",
      " [ 16  81 196 361 576]]\n"
     ]
    }
   ],
   "source": [
    "# Generate the following array without explicit loops and without manually fill in the numbers. We will name it arr1:\n",
    "import numpy as np\n",
    "\n",
    "arr1=np.zeros((5,5),int)\n",
    "for i in range(5):\n",
    "    arr1[i]=np.arange(i,i+21,5)**2\n",
    "print(arr1)\n",
    "\n",
    "# method 2\n",
    "def my_f(x,y):\n",
    "    return (x+5y)**5\n",
    "arr2=np.fromfunction(my_f,(5,5),dtype=int)\n",
    "print(arr2)"
   ]
  },
  {
   "cell_type": "code",
   "execution_count": 24,
   "id": "be1349f8",
   "metadata": {},
   "outputs": [
    {
     "name": "stdout",
     "output_type": "stream",
     "text": [
      "[[  0  25 100 225 400]\n",
      " [  1  36 121 256 441]\n",
      " [  4  49 144 289 484]\n",
      " [  9  64 169 324 529]\n",
      " [ 16  81 196 361 576]]\n"
     ]
    }
   ],
   "source": [
    "# method 3\n",
    "import numpy as np\n",
    "\n",
    "arr1 = np.arange(25).reshape(5,-1).T**2\n",
    "print(arr1)"
   ]
  },
  {
   "cell_type": "code",
   "execution_count": 32,
   "id": "63e93e95",
   "metadata": {},
   "outputs": [
    {
     "name": "stdout",
     "output_type": "stream",
     "text": [
      "[  0  36 144 324 576]\n"
     ]
    }
   ],
   "source": [
    "# Extract the diagonal values of arr1 (do not generate it) and call it diag1\n",
    "diagl= arr1[[0,1,2,3,4],[0,1,2,3,4]]\n",
    "print(diagonal)"
   ]
  },
  {
   "cell_type": "code",
   "execution_count": null,
   "id": "73233be0",
   "metadata": {},
   "outputs": [],
   "source": [
    "# method 2, Using arange de xuat vitri index\n",
    "diag1 = arr1[np.arange(5), np.arange(5)]\n",
    "diag1"
   ]
  },
  {
   "cell_type": "code",
   "execution_count": 36,
   "id": "7b7fe281",
   "metadata": {},
   "outputs": [
    {
     "name": "stdout",
     "output_type": "stream",
     "text": [
      "[[225 100  25]\n",
      " [289 144  49]\n",
      " [256 121  36]]\n"
     ]
    }
   ],
   "source": [
    "# From arr1, extract the submatrix and name it subarr1.\n",
    "arr=arr1[[0,2,1],:]\n",
    "subarr1=arr[:,[3,2,1]]\n",
    "print(subarr1)\n"
   ]
  },
  {
   "cell_type": "raw",
   "id": "197e5adf",
   "metadata": {},
   "source": [
    "Exercice 5: arrays\n",
    "Generate the following array without explicit loops and without manually fill in the numbers. We will name it arr2:\n",
    "[[10  9  8  7  6]\n",
    " [ 9  8  7  6  5]\n",
    " [ 8  7  6  5  4]\n",
    " [ 7  6  5  4  3]\n",
    " [ 6  5  4  3  2]]"
   ]
  },
  {
   "cell_type": "code",
   "execution_count": 31,
   "id": "e27e8acf",
   "metadata": {},
   "outputs": [
    {
     "name": "stdout",
     "output_type": "stream",
     "text": [
      "[[ 6  7  8  9 10]\n",
      " [ 5  6  7  8  9]\n",
      " [ 4  5  6  7  8]\n",
      " [ 3  4  5  6  7]\n",
      " [ 2  3  4  5  6]]\n",
      "[[10  9  8  7  6]\n",
      " [ 9  8  7  6  5]\n",
      " [ 8  7  6  5  4]\n",
      " [ 7  6  5  4  3]\n",
      " [ 6  5  4  3  2]]\n"
     ]
    }
   ],
   "source": [
    "arr=np.zeros((5,5),int)\n",
    "\n",
    "\n",
    "for i in range(5):\n",
    "    arr[i]=np.arange(6-i,11-i)\n",
    "\n",
    "#     tao mang con theo tu nho den lon (phu hop voi lenh arange) roi sau do xep no thanh lon den nho\n",
    "#  chu y them cach dao nguoc dong thanh cot\n",
    "# chu y khi phat hien quy luat (cu thu dau + - or vitri so tru va so bi tru)\n",
    "arr2=-np.sort(-arr)\n",
    "# sort row array thanh tu lon den nho\n",
    "print(arr)\n",
    "print(arr2)\n",
    "\n",
    "\n",
    "\n",
    "\n"
   ]
  },
  {
   "cell_type": "code",
   "execution_count": 17,
   "id": "9207fd4f",
   "metadata": {},
   "outputs": [
    {
     "name": "stdout",
     "output_type": "stream",
     "text": [
      "[[10  9  8  7  6]\n",
      " [ 9  8  7  6  5]\n",
      " [ 8  7  6  5  4]\n",
      " [ 7  6  5  4  3]\n",
      " [ 6  5  4  3  2]]\n"
     ]
    }
   ],
   "source": [
    "# method 2\n",
    "arr2=np.zeros((5,5),int)\n",
    "\n",
    "for i in range(5):\n",
    "    arr2[i]=np.arange(10-i,5-i,-1)\n",
    "# them -1 de lenh arange co the chay tu lon den nho\n",
    "\n",
    "print(arr2)"
   ]
  },
  {
   "cell_type": "code",
   "execution_count": 15,
   "id": "a719446d",
   "metadata": {},
   "outputs": [
    {
     "name": "stdout",
     "output_type": "stream",
     "text": [
      "[5 4 3 2 1]\n",
      "[[10  9  8  7  6]\n",
      " [ 9  8  7  6  5]\n",
      " [ 8  7  6  5  4]\n",
      " [ 7  6  5  4  3]\n",
      " [ 6  5  4  3  2]]\n"
     ]
    }
   ],
   "source": [
    "# Method 3\n",
    "arr = np.arange(5, 0, -1)\n",
    "print(arr)\n",
    "arr2 = np.tile(arr, (5, 1)).T + arr\n",
    "print(arr2)"
   ]
  },
  {
   "cell_type": "code",
   "execution_count": 52,
   "id": "af9a48fc",
   "metadata": {},
   "outputs": [
    {
     "name": "stdout",
     "output_type": "stream",
     "text": [
      "[[10  9  8  7  6]\n",
      " [ 9  8  7  6  5]\n",
      " [ 8  7  6  5  4]\n",
      " [ 7  6  5  4  3]\n",
      " [ 6  5  4  3  2]]\n"
     ]
    }
   ],
   "source": [
    "# method 2\n",
    "def my_f(x,y):\n",
    "    return ((10-x)-y)\n",
    "arr2=np.fromfunction(my_f,(5,5),dtype=int)\n",
    "print(arr2)\n"
   ]
  },
  {
   "cell_type": "raw",
   "id": "f573027b",
   "metadata": {},
   "source": [
    "Replace all the even values of arr2 by 0 without explicit loops. You should have:\n",
    "[[0 9 0 7 0]\n",
    "[9 0 7 0 5]\n",
    "[0 7 0 5 0]\n",
    "[7 0 5 0 3]\n",
    "[0 5 0 3 0]]"
   ]
  },
  {
   "cell_type": "code",
   "execution_count": 60,
   "id": "c6317b46",
   "metadata": {},
   "outputs": [
    {
     "name": "stdout",
     "output_type": "stream",
     "text": [
      "[[0 9 0 7 0]\n",
      " [9 0 7 0 5]\n",
      " [0 7 0 5 0]\n",
      " [7 0 5 0 3]\n",
      " [0 5 0 3 0]]\n"
     ]
    }
   ],
   "source": [
    "# Replace all the even values of arr2 by 0 without explicit loops. You should have:\n",
    "arr2[arr2 %2==0]= 0\n",
    "print (arr2)"
   ]
  },
  {
   "cell_type": "markdown",
   "id": "000b4307",
   "metadata": {},
   "source": [
    "Exercice 6: plotting\n",
    "Generate and (scatter) plot 2000 random points in the space \n",
    "[−10,0]×[1,2]\n",
    " with the color orange. You should have:"
   ]
  },
  {
   "cell_type": "code",
   "execution_count": 97,
   "id": "352faaf2",
   "metadata": {
    "scrolled": true
   },
   "outputs": [
    {
     "data": {
      "image/png": "[encoded data removed]",
      "text/plain": [
       "<Figure size 432x288 with 1 Axes>"
      ]
     },
     "metadata": {
      "needs_background": "light"
     },
     "output_type": "display_data"
    }
   ],
   "source": [
    "%matplotlib inline\n",
    "\n",
    "import matplotlib.pyplot as plt    # for plotting \n",
    "import numpy as np   \n",
    "\n",
    "n=2000\n",
    "# x_scatter=10*np.random.rand(n)-9\n",
    "# y_scatter=np.random.rand(n)-1\n",
    "x_scatter=np.random.uniform(-10,0,n)\n",
    "y_scatter=np.random.uniform(1,2,n)\n",
    "\n",
    "colors=np.array([\"orange\"]*n)\n",
    "plt.scatter(x_scatter,y_scatter,c=colors, marker=\"o\");\n",
    "\n"
   ]
  },
  {
   "cell_type": "code",
   "execution_count": 107,
   "id": "a88d9a62",
   "metadata": {},
   "outputs": [
    {
     "data": {
      "image/png": "[encoded data removed]",
      "text/plain": [
       "<Figure size 432x288 with 1 Axes>"
      ]
     },
     "metadata": {
      "needs_background": "light"
     },
     "output_type": "display_data"
    }
   ],
   "source": [
    "%matplotlib inline\n",
    "\n",
    "import matplotlib.pyplot as plt    # for plotting \n",
    "import numpy as np   \n",
    "\n",
    "n=2000\n",
    "\n",
    "\n",
    "x=np.random.uniform(-10,0,n)\n",
    "y=np.random.uniform(1,2,n)\n",
    "\n",
    "\n",
    "colors = np.array([\"orange\"]*n)\n",
    "\n",
    "for i in range(n):\n",
    "#     colors[((x[i] > -4 and x[i] < -2) and (y[i]>1.2 and y[i]< 1.8)) or ((x[i] > -8 and x[i] < -6) and (y[i]>1.2 and y[i]< 1.8))] = \"red\"\n",
    "    if (((x[i] > -4 and x[i] < -2) and (y[i]>1.2 and y[i]< 1.8)) or ((x[i] > -8 and x[i] < -6) and (y[i]>1.2 and y[i]< 1.8))):\n",
    "        colors[i]=\"green\"\n",
    "#     else:\n",
    "#         colors[i]=\"orange\"\n",
    "    \n",
    "plt.scatter(x,y,c=colors, marker=\"o\");"
   ]
  },
  {
   "cell_type": "raw",
   "id": "f010b887",
   "metadata": {},
   "source": [
    "color the points inside the space \n",
    "[−4,−2]×[1.2,1.8] or [−8,−6]×[1.2,1.8] by green. You should have"
   ]
  },
  {
   "cell_type": "raw",
   "id": "f39cfb63",
   "metadata": {},
   "source": [
    "Exercice 1: lists\n",
    "Create a function insert, that produces the following results:\n",
    "\n",
    ">>> l = [0, 9, 3, 10]\n",
    ">>> print(insert(l, -1, 1))\n",
    "[0, -1, 9, 3, 10]\n",
    ">>> print(insert(l, -1, 2))\n",
    "[0, 9, -1, 3, 10]\n",
    ">>> print(insert(l, \"epita\", 4))\n",
    "[0, 9, 3, 10, 'epita']\n",
    ">>> print(insert(l, \"epita\", 10))\n",
    "[0, 9, 3, 10, 'epita']\n",
    ">>> print(l)\n",
    "[0, 9, 3, 10]"
   ]
  },
  {
   "cell_type": "code",
   "execution_count": 8,
   "id": "b064103c",
   "metadata": {},
   "outputs": [
    {
     "ename": "NameError",
     "evalue": "name 'tmp' is not defined",
     "output_type": "error",
     "traceback": [
      "\u001b[1;31m---------------------------------------------------------------------------\u001b[0m",
      "\u001b[1;31mNameError\u001b[0m                                 Traceback (most recent call last)",
      "\u001b[1;32m<ipython-input-8-0eaffc1a2d10>\u001b[0m in \u001b[0;36m<module>\u001b[1;34m\u001b[0m\n\u001b[0;32m      8\u001b[0m     \u001b[1;32mreturn\u001b[0m \u001b[0mtmp\u001b[0m\u001b[1;33m\u001b[0m\u001b[1;33m\u001b[0m\u001b[0m\n\u001b[0;32m      9\u001b[0m \u001b[1;33m\u001b[0m\u001b[0m\n\u001b[1;32m---> 10\u001b[1;33m \u001b[0mprint\u001b[0m\u001b[1;33m(\u001b[0m\u001b[0mtest\u001b[0m\u001b[1;33m(\u001b[0m\u001b[0ml\u001b[0m\u001b[1;33m,\u001b[0m \u001b[1;33m-\u001b[0m\u001b[1;36m1\u001b[0m\u001b[1;33m,\u001b[0m \u001b[1;36m1\u001b[0m\u001b[1;33m)\u001b[0m\u001b[1;33m)\u001b[0m\u001b[1;33m\u001b[0m\u001b[1;33m\u001b[0m\u001b[0m\n\u001b[0m\u001b[0;32m     11\u001b[0m \u001b[1;31m# print(test(l, -1, 2))\u001b[0m\u001b[1;33m\u001b[0m\u001b[1;33m\u001b[0m\u001b[1;33m\u001b[0m\u001b[0m\n\u001b[0;32m     12\u001b[0m \u001b[1;31m# print(test(l, \"epita\", 4))\u001b[0m\u001b[1;33m\u001b[0m\u001b[1;33m\u001b[0m\u001b[1;33m\u001b[0m\u001b[0m\n",
      "\u001b[1;32m<ipython-input-8-0eaffc1a2d10>\u001b[0m in \u001b[0;36mtest\u001b[1;34m(l, x, y)\u001b[0m\n\u001b[0;32m      2\u001b[0m \u001b[1;33m\u001b[0m\u001b[0m\n\u001b[0;32m      3\u001b[0m \u001b[1;32mdef\u001b[0m \u001b[0mtest\u001b[0m\u001b[1;33m(\u001b[0m\u001b[0ml\u001b[0m\u001b[1;33m,\u001b[0m\u001b[0mx\u001b[0m\u001b[1;33m,\u001b[0m\u001b[0my\u001b[0m\u001b[1;33m)\u001b[0m\u001b[1;33m:\u001b[0m\u001b[1;33m\u001b[0m\u001b[1;33m\u001b[0m\u001b[0m\n\u001b[1;32m----> 4\u001b[1;33m     \u001b[0mtmp\u001b[0m\u001b[1;33m[\u001b[0m\u001b[1;33m:\u001b[0m\u001b[1;33m]\u001b[0m\u001b[1;33m=\u001b[0m\u001b[0ml\u001b[0m\u001b[1;33m\u001b[0m\u001b[1;33m\u001b[0m\u001b[0m\n\u001b[0m\u001b[0;32m      5\u001b[0m \u001b[1;31m#     l khong bi thay doi boi tmp\u001b[0m\u001b[1;33m\u001b[0m\u001b[1;33m\u001b[0m\u001b[1;33m\u001b[0m\u001b[0m\n\u001b[0;32m      6\u001b[0m     \u001b[0mtmp\u001b[0m\u001b[1;33m.\u001b[0m\u001b[0minsert\u001b[0m\u001b[1;33m(\u001b[0m\u001b[0my\u001b[0m\u001b[1;33m,\u001b[0m\u001b[0mx\u001b[0m\u001b[1;33m)\u001b[0m\u001b[1;33m\u001b[0m\u001b[1;33m\u001b[0m\u001b[0m\n",
      "\u001b[1;31mNameError\u001b[0m: name 'tmp' is not defined"
     ]
    }
   ],
   "source": [
    "l = [0, 9, 3, 10]\n",
    "\n",
    "def test(l,x,y):\n",
    "    tmp[:]=l\n",
    "#     l khong bi thay doi boi tmp\n",
    "    tmp.insert(y,x)\n",
    "\n",
    "    return tmp\n",
    "          \n",
    "print(test(l, -1, 1))\n",
    "# print(test(l, -1, 2))\n",
    "# print(test(l, \"epita\", 4))\n",
    "# print(test(l, \"epita\", 10))\n",
    "# print(l)"
   ]
  },
  {
   "cell_type": "raw",
   "id": "d7bd3649",
   "metadata": {},
   "source": [
    "paris = [{\"District\": 3, \"Date\":2007, \"Pop\":34576},\n",
    "         {\"District\": 5, \"Date\":2007, \"Pop\":62664},\n",
    "         {\"District\": 6, \"Date\":2007, \"Pop\":45332},\n",
    "         {\"District\": 7, \"Date\":2007, \"Pop\":57410},\n",
    "         {\"District\": 8, \"Date\":2007, \"Pop\":39165},\n",
    "         {\"District\": 9, \"Date\":2007, \"Pop\":58632},\n",
    "         {\"District\": 10, \"Date\":2007, \"Pop\":93373},\n",
    "         {\"District\": 11, \"Date\":2007, \"Pop\":151421},\n",
    "         {\"District\": 12, \"Date\":2007, \"Pop\":142425},\n",
    "         {\"District\": 13, \"Date\":2007, \"Pop\":179213},\n",
    "         {\"District\": 14, \"Date\":2007, \"Pop\":134382},\n",
    "         {\"District\": 15, \"Date\":2007, \"Pop\":232247},\n",
    "         {\"District\": 16, \"Date\":2007, \"Pop\":159706},\n",
    "         {\"District\": 17, \"Date\":2007, \"Pop\":164673},\n",
    "         {\"District\": 18, \"Date\":2007, \"Pop\":191523},\n",
    "         {\"District\": 19, \"Date\":2007, \"Pop\":184038},\n",
    "         {\"District\": 20, \"Date\":2007, \"Pop\":194018}]"
   ]
  },
  {
   "cell_type": "code",
   "execution_count": 9,
   "id": "14537f0d",
   "metadata": {},
   "outputs": [
    {
     "name": "stdout",
     "output_type": "stream",
     "text": [
      "[{'District': 3, 'Date': 2007, 'Pop': 34576, 'Rounded_pop': 34}, {'District': 5, 'Date': 2007, 'Pop': 62664, 'Rounded_pop': 62}, {'District': 6, 'Date': 2007, 'Pop': 45332, 'Rounded_pop': 45}, {'District': 7, 'Date': 2007, 'Pop': 57410, 'Rounded_pop': 57}, {'District': 8, 'Date': 2007, 'Pop': 39165, 'Rounded_pop': 39}, {'District': 9, 'Date': 2007, 'Pop': 58632, 'Rounded_pop': 58}, {'District': 10, 'Date': 2007, 'Pop': 93373, 'Rounded_pop': 93}, {'District': 11, 'Date': 2007, 'Pop': 151421, 'Rounded_pop': 151}, {'District': 12, 'Date': 2007, 'Pop': 142425, 'Rounded_pop': 142}, {'District': 13, 'Date': 2007, 'Pop': 179213, 'Rounded_pop': 179}, {'District': 14, 'Date': 2007, 'Pop': 134382, 'Rounded_pop': 134}, {'District': 15, 'Date': 2007, 'Pop': 232247, 'Rounded_pop': 232}, {'District': 16, 'Date': 2007, 'Pop': 159706, 'Rounded_pop': 159}, {'District': 17, 'Date': 2007, 'Pop': 164673, 'Rounded_pop': 164}, {'District': 18, 'Date': 2007, 'Pop': 191523, 'Rounded_pop': 191}, {'District': 19, 'Date': 2007, 'Pop': 184038, 'Rounded_pop': 184}, {'District': 20, 'Date': 2007, 'Pop': 194018, 'Rounded_pop': 194}]\n"
     ]
    }
   ],
   "source": [
    "# write a script that add a field Rounded_pop which discard the last 3 digits. For example we transform the value 34576 to 34\n",
    "paris = [{\"District\": 3, \"Date\":2007, \"Pop\":34576},\n",
    "         {\"District\": 5, \"Date\":2007, \"Pop\":62664},\n",
    "         {\"District\": 6, \"Date\":2007, \"Pop\":45332},\n",
    "         {\"District\": 7, \"Date\":2007, \"Pop\":57410},\n",
    "         {\"District\": 8, \"Date\":2007, \"Pop\":39165},\n",
    "         {\"District\": 9, \"Date\":2007, \"Pop\":58632},\n",
    "         {\"District\": 10, \"Date\":2007, \"Pop\":93373},\n",
    "         {\"District\": 11, \"Date\":2007, \"Pop\":151421},\n",
    "         {\"District\": 12, \"Date\":2007, \"Pop\":142425},\n",
    "         {\"District\": 13, \"Date\":2007, \"Pop\":179213},\n",
    "         {\"District\": 14, \"Date\":2007, \"Pop\":134382},\n",
    "         {\"District\": 15, \"Date\":2007, \"Pop\":232247},\n",
    "         {\"District\": 16, \"Date\":2007, \"Pop\":159706},\n",
    "         {\"District\": 17, \"Date\":2007, \"Pop\":164673},\n",
    "         {\"District\": 18, \"Date\":2007, \"Pop\":191523},\n",
    "         {\"District\": 19, \"Date\":2007, \"Pop\":184038},\n",
    "         {\"District\": 20, \"Date\":2007, \"Pop\":194018}]\n",
    "\n",
    "def Rounded_pop(x):\n",
    "    if x< 1000:\n",
    "        return 0\n",
    "    else:\n",
    "        y=x//1000\n",
    "    return y\n",
    "    print (y)\n",
    "Rounded_pop(194018)\n",
    "\n",
    "for i in paris:\n",
    "    i[\"Rounded_pop\"]= Rounded_pop(i[\"Pop\"])\n",
    "#     add them mot gia tri;'=' la value cua gia tri do\n",
    "print(paris)"
   ]
  },
  {
   "cell_type": "code",
   "execution_count": 18,
   "id": "ead1a4aa",
   "metadata": {},
   "outputs": [
    {
     "name": "stdout",
     "output_type": "stream",
     "text": [
      "[34, 62, 45, 57, 39, 58, 93, 151, 142, 179, 134, 232, 159, 164, 191, 184, 194]\n"
     ]
    }
   ],
   "source": [
    "# write a script that store the values of Rounded_pop into a list named populations\n",
    "\n",
    "populations=[]\n",
    "\n",
    "for i in paris:\n",
    "    x=i['Rounded_pop']\n",
    "    populations.append(x)\n",
    "    \n",
    "print(populations)\n",
    "    \n",
    "        "
   ]
  },
  {
   "cell_type": "code",
   "execution_count": 21,
   "id": "a1ea8608",
   "metadata": {},
   "outputs": [
    {
     "name": "stdout",
     "output_type": "stream",
     "text": [
      "[34, 39, 45, 57, 58, 62, 93, 134, 142, 151, 159, 164, 179, 184, 191, 194, 232]\n"
     ]
    }
   ],
   "source": [
    "# Sort by ascending order the list populations\n",
    "populations.sort(reverse=False)\n",
    "# reverse=True is ascending, Flase is Descending; khong dien reverse thi default la Ascending\n",
    "print(populations)"
   ]
  },
  {
   "cell_type": "raw",
   "id": "7b99d48f",
   "metadata": {},
   "source": [
    "list_of_strings = [\n",
    "    'EPITA', 'propose', 'trois', 'programmes',\n",
    "    'spécialisés', 'Master', 'of', 'Science', \n",
    "    'dans', 'un', 'environnement', 'international.',\n",
    "    'Cette', 'formation', 'professionnalisante', 'de',\n",
    "    '18', 'mois', 'intégralement', 'en', 'anglais',\n",
    "    'pour','les','étudiants','français', 'et', 'internationaux,', \n",
    "    'permet', 'de', 'se', 'spécialiser', 'dans', 'un', \n",
    "    'domaine', 'après', '3', 'ou', '4', 'ans', 'd’études.']"
   ]
  },
  {
   "cell_type": "code",
   "execution_count": null,
   "id": "79ce1f7d",
   "metadata": {},
   "outputs": [],
   "source": [
    "# Write a script that create a variable named text which concatenante the items of list_of_strings\n",
    "# with exactly one space between words."
   ]
  },
  {
   "cell_type": "code",
   "execution_count": 10,
   "id": "b6b38f17",
   "metadata": {},
   "outputs": [
    {
     "name": "stdout",
     "output_type": "stream",
     "text": [
      "EPITA propose trois programmes spécialisés Master of Science dans un environnement international. Cette formation professionnalisante de 18 mois intégralement en anglais pour les étudiants français et internationaux, permet de se spécialiser dans un domaine après 3 ou 4 ans d’études.\n"
     ]
    }
   ],
   "source": [
    "list_of_strings = [\n",
    "    'EPITA', 'propose', 'trois', 'programmes',\n",
    "    'spécialisés', 'Master', 'of', 'Science', \n",
    "    'dans', 'un', 'environnement', 'international.',\n",
    "    'Cette', 'formation', 'professionnalisante', 'de',\n",
    "    '18', 'mois', 'intégralement', 'en', 'anglais',\n",
    "    'pour','les','étudiants','français', 'et', 'internationaux,', \n",
    "    'permet', 'de', 'se', 'spécialiser', 'dans', 'un', \n",
    "    'domaine', 'après', '3', 'ou', '4', 'ans', 'd’études.']\n",
    "\n",
    "text = \"\"\n",
    "for i in list_of_strings:\n",
    "    text += str(i) + \" \"\n",
    "text = text[:-1]\n",
    "print(text)\n",
    "\n",
    "# chi la chon vi tri de in, bo khoang trang cuoi cung nen co -1\n"
   ]
  },
  {
   "cell_type": "code",
   "execution_count": 6,
   "id": "d2004dde",
   "metadata": {},
   "outputs": [],
   "source": [
    "# method 2\n",
    "# text = ' '.join(list_of_strings)\n",
    "# text neu de thay lenh print(text) thi lenh nay se cho ket qua con dau ''"
   ]
  },
  {
   "cell_type": "raw",
   "id": "56306d68",
   "metadata": {},
   "source": [
    "Exercice 7: data manipulation\n",
    "Import the Iris and defra_consumptiondatasets as dataframes and name them respectively iris and cons. You should have the following first 5 rows for each dataframe:\n"
   ]
  },
  {
   "cell_type": "code",
   "execution_count": 3,
   "id": "ae217539",
   "metadata": {},
   "outputs": [
    {
     "data": {
      "text/html": [
       "<div>\n",
       "<style scoped>\n",
       "    .dataframe tbody tr th:only-of-type {\n",
       "        vertical-align: middle;\n",
       "    }\n",
       "\n",
       "    .dataframe tbody tr th {\n",
       "        vertical-align: top;\n",
       "    }\n",
       "\n",
       "    .dataframe thead th {\n",
       "        text-align: right;\n",
       "    }\n",
       "</style>\n",
       "<table border=\"1\" class=\"dataframe\">\n",
       "  <thead>\n",
       "    <tr style=\"text-align: right;\">\n",
       "      <th></th>\n",
       "      <th>SepalLengthCm</th>\n",
       "      <th>SepalWidthCm</th>\n",
       "      <th>PetalLengthCm</th>\n",
       "      <th>PetalWidthCm</th>\n",
       "      <th>Species</th>\n",
       "    </tr>\n",
       "    <tr>\n",
       "      <th>Id</th>\n",
       "      <th></th>\n",
       "      <th></th>\n",
       "      <th></th>\n",
       "      <th></th>\n",
       "      <th></th>\n",
       "    </tr>\n",
       "  </thead>\n",
       "  <tbody>\n",
       "    <tr>\n",
       "      <th>1</th>\n",
       "      <td>5.1</td>\n",
       "      <td>3.5</td>\n",
       "      <td>1.4</td>\n",
       "      <td>0.2</td>\n",
       "      <td>Iris-setosa</td>\n",
       "    </tr>\n",
       "    <tr>\n",
       "      <th>2</th>\n",
       "      <td>4.9</td>\n",
       "      <td>3.0</td>\n",
       "      <td>1.4</td>\n",
       "      <td>0.2</td>\n",
       "      <td>Iris-setosa</td>\n",
       "    </tr>\n",
       "    <tr>\n",
       "      <th>3</th>\n",
       "      <td>4.7</td>\n",
       "      <td>3.2</td>\n",
       "      <td>1.3</td>\n",
       "      <td>0.2</td>\n",
       "      <td>Iris-setosa</td>\n",
       "    </tr>\n",
       "    <tr>\n",
       "      <th>4</th>\n",
       "      <td>4.6</td>\n",
       "      <td>3.1</td>\n",
       "      <td>1.5</td>\n",
       "      <td>0.2</td>\n",
       "      <td>Iris-setosa</td>\n",
       "    </tr>\n",
       "    <tr>\n",
       "      <th>5</th>\n",
       "      <td>5.0</td>\n",
       "      <td>3.6</td>\n",
       "      <td>1.4</td>\n",
       "      <td>0.2</td>\n",
       "      <td>Iris-setosa</td>\n",
       "    </tr>\n",
       "  </tbody>\n",
       "</table>\n",
       "</div>"
      ],
      "text/plain": [
       "    SepalLengthCm  SepalWidthCm  PetalLengthCm  PetalWidthCm      Species\n",
       "Id                                                                       \n",
       "1             5.1           3.5            1.4           0.2  Iris-setosa\n",
       "2             4.9           3.0            1.4           0.2  Iris-setosa\n",
       "3             4.7           3.2            1.3           0.2  Iris-setosa\n",
       "4             4.6           3.1            1.5           0.2  Iris-setosa\n",
       "5             5.0           3.6            1.4           0.2  Iris-setosa"
      ]
     },
     "execution_count": 3,
     "metadata": {},
     "output_type": "execute_result"
    }
   ],
   "source": [
    "import pandas as pd\n",
    "iris = pd.read_csv('data/Iris.csv', sep=',', index_col=\"Id\")\n",
    "iris.head()"
   ]
  },
  {
   "cell_type": "code",
   "execution_count": 8,
   "id": "6bf7614f",
   "metadata": {},
   "outputs": [
    {
     "data": {
      "text/html": [
       "<div>\n",
       "<style scoped>\n",
       "    .dataframe tbody tr th:only-of-type {\n",
       "        vertical-align: middle;\n",
       "    }\n",
       "\n",
       "    .dataframe tbody tr th {\n",
       "        vertical-align: top;\n",
       "    }\n",
       "\n",
       "    .dataframe thead th {\n",
       "        text-align: right;\n",
       "    }\n",
       "</style>\n",
       "<table border=\"1\" class=\"dataframe\">\n",
       "  <thead>\n",
       "    <tr style=\"text-align: right;\">\n",
       "      <th></th>\n",
       "      <th>England</th>\n",
       "      <th>Wales</th>\n",
       "      <th>Scotland</th>\n",
       "      <th>N Ireland</th>\n",
       "    </tr>\n",
       "  </thead>\n",
       "  <tbody>\n",
       "    <tr>\n",
       "      <th>Cheese</th>\n",
       "      <td>105</td>\n",
       "      <td>103</td>\n",
       "      <td>103</td>\n",
       "      <td>66</td>\n",
       "    </tr>\n",
       "    <tr>\n",
       "      <th>Carcass meat</th>\n",
       "      <td>245</td>\n",
       "      <td>227</td>\n",
       "      <td>242</td>\n",
       "      <td>267</td>\n",
       "    </tr>\n",
       "    <tr>\n",
       "      <th>Other meat</th>\n",
       "      <td>685</td>\n",
       "      <td>803</td>\n",
       "      <td>750</td>\n",
       "      <td>586</td>\n",
       "    </tr>\n",
       "    <tr>\n",
       "      <th>Fish</th>\n",
       "      <td>147</td>\n",
       "      <td>160</td>\n",
       "      <td>122</td>\n",
       "      <td>93</td>\n",
       "    </tr>\n",
       "    <tr>\n",
       "      <th>Fats and oils</th>\n",
       "      <td>193</td>\n",
       "      <td>235</td>\n",
       "      <td>184</td>\n",
       "      <td>209</td>\n",
       "    </tr>\n",
       "  </tbody>\n",
       "</table>\n",
       "</div>"
      ],
      "text/plain": [
       "               England  Wales  Scotland  N Ireland\n",
       "Cheese             105    103       103         66\n",
       "Carcass meat       245    227       242        267\n",
       "Other meat         685    803       750        586\n",
       "Fish               147    160       122         93\n",
       "Fats and oils      193    235       184        209"
      ]
     },
     "execution_count": 8,
     "metadata": {},
     "output_type": "execute_result"
    }
   ],
   "source": [
    "import pandas as pd\n",
    "cons= pd.read_csv('data/defra_consumption.csv', sep=';',index_col=0)\n",
    "cons.head()"
   ]
  },
  {
   "cell_type": "code",
   "execution_count": 4,
   "id": "7e0e1c03",
   "metadata": {},
   "outputs": [
    {
     "data": {
      "text/html": [
       "<div>\n",
       "<style scoped>\n",
       "    .dataframe tbody tr th:only-of-type {\n",
       "        vertical-align: middle;\n",
       "    }\n",
       "\n",
       "    .dataframe tbody tr th {\n",
       "        vertical-align: top;\n",
       "    }\n",
       "\n",
       "    .dataframe thead th {\n",
       "        text-align: right;\n",
       "    }\n",
       "</style>\n",
       "<table border=\"1\" class=\"dataframe\">\n",
       "  <thead>\n",
       "    <tr style=\"text-align: right;\">\n",
       "      <th></th>\n",
       "      <th>SepalLength</th>\n",
       "      <th>SepalWidth</th>\n",
       "      <th>PetalLength</th>\n",
       "      <th>PetalWidth</th>\n",
       "      <th>Species</th>\n",
       "    </tr>\n",
       "    <tr>\n",
       "      <th>Id</th>\n",
       "      <th></th>\n",
       "      <th></th>\n",
       "      <th></th>\n",
       "      <th></th>\n",
       "      <th></th>\n",
       "    </tr>\n",
       "  </thead>\n",
       "  <tbody>\n",
       "    <tr>\n",
       "      <th>1</th>\n",
       "      <td>5.1</td>\n",
       "      <td>3.5</td>\n",
       "      <td>1.4</td>\n",
       "      <td>0.2</td>\n",
       "      <td>Iris-setosa</td>\n",
       "    </tr>\n",
       "    <tr>\n",
       "      <th>2</th>\n",
       "      <td>4.9</td>\n",
       "      <td>3.0</td>\n",
       "      <td>1.4</td>\n",
       "      <td>0.2</td>\n",
       "      <td>Iris-setosa</td>\n",
       "    </tr>\n",
       "    <tr>\n",
       "      <th>3</th>\n",
       "      <td>4.7</td>\n",
       "      <td>3.2</td>\n",
       "      <td>1.3</td>\n",
       "      <td>0.2</td>\n",
       "      <td>Iris-setosa</td>\n",
       "    </tr>\n",
       "    <tr>\n",
       "      <th>4</th>\n",
       "      <td>4.6</td>\n",
       "      <td>3.1</td>\n",
       "      <td>1.5</td>\n",
       "      <td>0.2</td>\n",
       "      <td>Iris-setosa</td>\n",
       "    </tr>\n",
       "    <tr>\n",
       "      <th>5</th>\n",
       "      <td>5.0</td>\n",
       "      <td>3.6</td>\n",
       "      <td>1.4</td>\n",
       "      <td>0.2</td>\n",
       "      <td>Iris-setosa</td>\n",
       "    </tr>\n",
       "    <tr>\n",
       "      <th>...</th>\n",
       "      <td>...</td>\n",
       "      <td>...</td>\n",
       "      <td>...</td>\n",
       "      <td>...</td>\n",
       "      <td>...</td>\n",
       "    </tr>\n",
       "    <tr>\n",
       "      <th>146</th>\n",
       "      <td>6.7</td>\n",
       "      <td>3.0</td>\n",
       "      <td>5.2</td>\n",
       "      <td>2.3</td>\n",
       "      <td>Iris-virginica</td>\n",
       "    </tr>\n",
       "    <tr>\n",
       "      <th>147</th>\n",
       "      <td>6.3</td>\n",
       "      <td>2.5</td>\n",
       "      <td>5.0</td>\n",
       "      <td>1.9</td>\n",
       "      <td>Iris-virginica</td>\n",
       "    </tr>\n",
       "    <tr>\n",
       "      <th>148</th>\n",
       "      <td>6.5</td>\n",
       "      <td>3.0</td>\n",
       "      <td>5.2</td>\n",
       "      <td>2.0</td>\n",
       "      <td>Iris-virginica</td>\n",
       "    </tr>\n",
       "    <tr>\n",
       "      <th>149</th>\n",
       "      <td>6.2</td>\n",
       "      <td>3.4</td>\n",
       "      <td>5.4</td>\n",
       "      <td>2.3</td>\n",
       "      <td>Iris-virginica</td>\n",
       "    </tr>\n",
       "    <tr>\n",
       "      <th>150</th>\n",
       "      <td>5.9</td>\n",
       "      <td>3.0</td>\n",
       "      <td>5.1</td>\n",
       "      <td>1.8</td>\n",
       "      <td>Iris-virginica</td>\n",
       "    </tr>\n",
       "  </tbody>\n",
       "</table>\n",
       "<p>150 rows × 5 columns</p>\n",
       "</div>"
      ],
      "text/plain": [
       "     SepalLength  SepalWidth  PetalLength  PetalWidth         Species\n",
       "Id                                                                   \n",
       "1            5.1         3.5          1.4         0.2     Iris-setosa\n",
       "2            4.9         3.0          1.4         0.2     Iris-setosa\n",
       "3            4.7         3.2          1.3         0.2     Iris-setosa\n",
       "4            4.6         3.1          1.5         0.2     Iris-setosa\n",
       "5            5.0         3.6          1.4         0.2     Iris-setosa\n",
       "..           ...         ...          ...         ...             ...\n",
       "146          6.7         3.0          5.2         2.3  Iris-virginica\n",
       "147          6.3         2.5          5.0         1.9  Iris-virginica\n",
       "148          6.5         3.0          5.2         2.0  Iris-virginica\n",
       "149          6.2         3.4          5.4         2.3  Iris-virginica\n",
       "150          5.9         3.0          5.1         1.8  Iris-virginica\n",
       "\n",
       "[150 rows x 5 columns]"
      ]
     },
     "execution_count": 4,
     "metadata": {},
     "output_type": "execute_result"
    }
   ],
   "source": [
    "iris.columns=[\"SepalLength\",\"SepalWidth\",\"PetalLength\",\"PetalWidth\",\"Species\"]\n",
    "iris"
   ]
  },
  {
   "cell_type": "code",
   "execution_count": 6,
   "id": "bbb079a9",
   "metadata": {},
   "outputs": [
    {
     "data": {
      "text/html": [
       "<div>\n",
       "<style scoped>\n",
       "    .dataframe tbody tr th:only-of-type {\n",
       "        vertical-align: middle;\n",
       "    }\n",
       "\n",
       "    .dataframe tbody tr th {\n",
       "        vertical-align: top;\n",
       "    }\n",
       "\n",
       "    .dataframe thead th {\n",
       "        text-align: right;\n",
       "    }\n",
       "</style>\n",
       "<table border=\"1\" class=\"dataframe\">\n",
       "  <thead>\n",
       "    <tr style=\"text-align: right;\">\n",
       "      <th></th>\n",
       "      <th>SepalLength</th>\n",
       "      <th>SepalWidth</th>\n",
       "      <th>PetalLength</th>\n",
       "      <th>PetalWidth</th>\n",
       "    </tr>\n",
       "    <tr>\n",
       "      <th>Id</th>\n",
       "      <th></th>\n",
       "      <th></th>\n",
       "      <th></th>\n",
       "      <th></th>\n",
       "    </tr>\n",
       "  </thead>\n",
       "  <tbody>\n",
       "    <tr>\n",
       "      <th>1</th>\n",
       "      <td>51.0</td>\n",
       "      <td>35.0</td>\n",
       "      <td>14.0</td>\n",
       "      <td>2.0</td>\n",
       "    </tr>\n",
       "    <tr>\n",
       "      <th>2</th>\n",
       "      <td>49.0</td>\n",
       "      <td>30.0</td>\n",
       "      <td>14.0</td>\n",
       "      <td>2.0</td>\n",
       "    </tr>\n",
       "    <tr>\n",
       "      <th>3</th>\n",
       "      <td>47.0</td>\n",
       "      <td>32.0</td>\n",
       "      <td>13.0</td>\n",
       "      <td>2.0</td>\n",
       "    </tr>\n",
       "    <tr>\n",
       "      <th>4</th>\n",
       "      <td>46.0</td>\n",
       "      <td>31.0</td>\n",
       "      <td>15.0</td>\n",
       "      <td>2.0</td>\n",
       "    </tr>\n",
       "    <tr>\n",
       "      <th>5</th>\n",
       "      <td>50.0</td>\n",
       "      <td>36.0</td>\n",
       "      <td>14.0</td>\n",
       "      <td>2.0</td>\n",
       "    </tr>\n",
       "  </tbody>\n",
       "</table>\n",
       "</div>"
      ],
      "text/plain": [
       "    SepalLength  SepalWidth  PetalLength  PetalWidth\n",
       "Id                                                  \n",
       "1          51.0        35.0         14.0         2.0\n",
       "2          49.0        30.0         14.0         2.0\n",
       "3          47.0        32.0         13.0         2.0\n",
       "4          46.0        31.0         15.0         2.0\n",
       "5          50.0        36.0         14.0         2.0"
      ]
     },
     "execution_count": 6,
     "metadata": {},
     "output_type": "execute_result"
    }
   ],
   "source": [
    "s=iris.loc[:,:'PetalWidth']*10\n",
    "s.head()\n",
    "# iris.loc[:,:'PetalWidth']*=10\n",
    "# iris.loc[:,:-1]*=10\n",
    "# Using position to slicing\n"
   ]
  },
  {
   "cell_type": "code",
   "execution_count": 14,
   "id": "a74115b7",
   "metadata": {},
   "outputs": [
    {
     "data": {
      "text/html": [
       "<div>\n",
       "<style scoped>\n",
       "    .dataframe tbody tr th:only-of-type {\n",
       "        vertical-align: middle;\n",
       "    }\n",
       "\n",
       "    .dataframe tbody tr th {\n",
       "        vertical-align: top;\n",
       "    }\n",
       "\n",
       "    .dataframe thead th {\n",
       "        text-align: right;\n",
       "    }\n",
       "</style>\n",
       "<table border=\"1\" class=\"dataframe\">\n",
       "  <thead>\n",
       "    <tr style=\"text-align: right;\">\n",
       "      <th></th>\n",
       "      <th>England</th>\n",
       "      <th>Wales</th>\n",
       "      <th>Scotland</th>\n",
       "      <th>N Ireland</th>\n",
       "    </tr>\n",
       "  </thead>\n",
       "  <tbody>\n",
       "    <tr>\n",
       "      <th>Cheese</th>\n",
       "      <td>1.315130</td>\n",
       "      <td>1.202288</td>\n",
       "      <td>1.316462</td>\n",
       "      <td>0.902996</td>\n",
       "    </tr>\n",
       "    <tr>\n",
       "      <th>Carcass meat</th>\n",
       "      <td>3.068637</td>\n",
       "      <td>2.649702</td>\n",
       "      <td>3.093047</td>\n",
       "      <td>3.653031</td>\n",
       "    </tr>\n",
       "    <tr>\n",
       "      <th>Other meat</th>\n",
       "      <td>8.579659</td>\n",
       "      <td>9.373176</td>\n",
       "      <td>9.585890</td>\n",
       "      <td>8.017513</td>\n",
       "    </tr>\n",
       "    <tr>\n",
       "      <th>Fish</th>\n",
       "      <td>1.841182</td>\n",
       "      <td>1.867632</td>\n",
       "      <td>1.559305</td>\n",
       "      <td>1.272404</td>\n",
       "    </tr>\n",
       "    <tr>\n",
       "      <th>Fats and oils</th>\n",
       "      <td>2.417335</td>\n",
       "      <td>2.743084</td>\n",
       "      <td>2.351738</td>\n",
       "      <td>2.859488</td>\n",
       "    </tr>\n",
       "  </tbody>\n",
       "</table>\n",
       "</div>"
      ],
      "text/plain": [
       "                England     Wales  Scotland  N Ireland\n",
       "Cheese         1.315130  1.202288  1.316462   0.902996\n",
       "Carcass meat   3.068637  2.649702  3.093047   3.653031\n",
       "Other meat     8.579659  9.373176  9.585890   8.017513\n",
       "Fish           1.841182  1.867632  1.559305   1.272404\n",
       "Fats and oils  2.417335  2.743084  2.351738   2.859488"
      ]
     },
     "execution_count": 14,
     "metadata": {},
     "output_type": "execute_result"
    }
   ],
   "source": [
    "# method 1\n",
    "# Sum_col=cons.sum(axis=0)\n",
    "# x=(cons.loc[:,:]*100)/Sum_col\n",
    "# x.head()\n",
    "# method 2\n",
    "\n",
    "cons=(cons.loc[:,:]*100)/cons.sum(axis=0)\n",
    "# Sum axis=0 or 1: O la sum theo col, 1 la sum theo row\n",
    "cons.head()"
   ]
  },
  {
   "cell_type": "raw",
   "id": "290c8177",
   "metadata": {},
   "source": [
    "______________Practice More One Time_____________"
   ]
  },
  {
   "cell_type": "code",
   "execution_count": 41,
   "id": "41d62091",
   "metadata": {},
   "outputs": [
    {
     "name": "stdout",
     "output_type": "stream",
     "text": [
      "car\t0\t1\t4\t9\t16\t\n",
      "bus\t1\t4\t9\t16\t25\t\n",
      "train\t4\t9\t16\t25\t36\t\n",
      "boat\t9\t16\t25\t36\t49\t\n"
     ]
    }
   ],
   "source": [
    "# METHOD 1\n",
    "trans = [\"car\", \"bus\", \"train\", \"boat\"]\n",
    "L1=[\"car\"]+[i**2 for i in range(5)]\n",
    "L2=[\"bus\"]+[i**2 for i in range(1,6)]\n",
    "L3=[\"train\"]+[i**2 for i in range(2,7)]\n",
    "L4=[\"boat\"]+[i**2 for i in range(3,8)]\n",
    "\n",
    "L=[L1,L2,L3,L4]\n",
    "L\n",
    "for i in L:\n",
    "    for j in i:\n",
    "        print(j, end=\"\\t\")\n",
    "    print()\n",
    "     \n",
    "# for line in total:\n",
    "#     print( * line, sep = '\\t')\n"
   ]
  },
  {
   "cell_type": "code",
   "execution_count": 44,
   "id": "916cb075",
   "metadata": {},
   "outputs": [
    {
     "name": "stdout",
     "output_type": "stream",
     "text": [
      "[['car', 0, 1, 4, 9, 16], ['bus', 1, 4, 9, 16, 25], ['train', 4, 9, 16, 25, 36], ['boat', 9, 16, 25, 36, 49]]\n",
      "car\t0\t1\t4\t9\t16\n",
      "bus\t1\t4\t9\t16\t25\n",
      "train\t4\t9\t16\t25\t36\n",
      "boat\t9\t16\t25\t36\t49\n"
     ]
    }
   ],
   "source": [
    "# METHOD2\n",
    "\n",
    "trans = [\"car\", \"bus\", \"train\", \"boat\"]\n",
    "\n",
    "Arr=[]\n",
    "\n",
    "for index,var in enumerate(trans):\n",
    "    sub_array= [var]+[i**2 for i in range(index,index+5)]\n",
    "    Arr.append(sub_array)\n",
    "print(Arr)\n",
    "    \n",
    "for line in Arr:\n",
    "    print( * line, sep = '\\t')"
   ]
  },
  {
   "cell_type": "raw",
   "id": "8d4a5ef1",
   "metadata": {},
   "source": [
    "Write a function include, that produces the following results:\n",
    "\n",
    ">>> l = [0]\n",
    ">>> include(l, 2)\n",
    ">>> print(l)\n",
    "[0, 2]\n",
    ">>> include(l, \"-1\")\n",
    ">>> print(l)\n",
    "[0, 2, '-1']\n",
    ">>> include(l)\n",
    ">>> print(l)\n",
    "[]"
   ]
  },
  {
   "cell_type": "code",
   "execution_count": 70,
   "id": "968b24ce",
   "metadata": {},
   "outputs": [
    {
     "name": "stdout",
     "output_type": "stream",
     "text": [
      "[0, 2]\n",
      "[0, 2, '-1']\n",
      "[]\n"
     ]
    }
   ],
   "source": [
    "# dạng bài mãng dc update liên tục theo thông số dc add vào\n",
    "\n",
    "def include(l,x=None):\n",
    "    if x is None:\n",
    "        del l[:]\n",
    "        return l\n",
    "    else:\n",
    "        l.append(x)\n",
    "l = [0]       \n",
    "include(l, 2)\n",
    "print(l)\n",
    "include(l, \"-1\")\n",
    "print(l)\n",
    "include(l)\n",
    "print(l)"
   ]
  },
  {
   "cell_type": "raw",
   "id": "3a7fd0dc",
   "metadata": {},
   "source": [
    "Exercice 1: lists\n",
    "Create a function insert, that produces the following results:\n",
    "\n",
    ">>> l = [0, 9, 3, 10]\n",
    ">>> print(insert(l, -1, 1))\n",
    "[0, -1, 9, 3, 10]\n",
    ">>> print(insert(l, -1, 2))\n",
    "[0, 9, -1, 3, 10]\n",
    ">>> print(insert(l, \"epita\", 4))\n",
    "[0, 9, 3, 10, 'epita']\n",
    ">>> print(insert(l, \"epita\", 10))\n",
    "[0, 9, 3, 10, 'epita']\n",
    ">>> print(l)\n",
    "[0, 9, 3, 10]"
   ]
  },
  {
   "cell_type": "code",
   "execution_count": 2,
   "id": "075f5eb9",
   "metadata": {
    "scrolled": true
   },
   "outputs": [
    {
     "ename": "NameError",
     "evalue": "name 'tmp' is not defined",
     "output_type": "error",
     "traceback": [
      "\u001b[1;31m---------------------------------------------------------------------------\u001b[0m",
      "\u001b[1;31mNameError\u001b[0m                                 Traceback (most recent call last)",
      "\u001b[1;32m<ipython-input-2-09aac9761298>\u001b[0m in \u001b[0;36m<module>\u001b[1;34m\u001b[0m\n\u001b[0;32m      9\u001b[0m     \u001b[1;32mreturn\u001b[0m \u001b[0mtmp\u001b[0m\u001b[1;33m\u001b[0m\u001b[1;33m\u001b[0m\u001b[0m\n\u001b[0;32m     10\u001b[0m \u001b[1;33m\u001b[0m\u001b[0m\n\u001b[1;32m---> 11\u001b[1;33m \u001b[0mprint\u001b[0m\u001b[1;33m(\u001b[0m\u001b[0minsert\u001b[0m\u001b[1;33m(\u001b[0m\u001b[0ml\u001b[0m\u001b[1;33m,\u001b[0m \u001b[1;33m-\u001b[0m\u001b[1;36m1\u001b[0m\u001b[1;33m,\u001b[0m \u001b[1;36m1\u001b[0m\u001b[1;33m)\u001b[0m\u001b[1;33m)\u001b[0m\u001b[1;33m\u001b[0m\u001b[1;33m\u001b[0m\u001b[0m\n\u001b[0m\u001b[0;32m     12\u001b[0m \u001b[1;31m# print(insert(l, -1, 2))\u001b[0m\u001b[1;33m\u001b[0m\u001b[1;33m\u001b[0m\u001b[1;33m\u001b[0m\u001b[0m\n\u001b[0;32m     13\u001b[0m \u001b[1;31m# print(insert(l, \"epita\", 4))\u001b[0m\u001b[1;33m\u001b[0m\u001b[1;33m\u001b[0m\u001b[1;33m\u001b[0m\u001b[0m\n",
      "\u001b[1;32m<ipython-input-2-09aac9761298>\u001b[0m in \u001b[0;36minsert\u001b[1;34m(l, x, y)\u001b[0m\n\u001b[0;32m      3\u001b[0m \u001b[1;33m\u001b[0m\u001b[0m\n\u001b[0;32m      4\u001b[0m \u001b[1;32mdef\u001b[0m \u001b[0minsert\u001b[0m\u001b[1;33m(\u001b[0m\u001b[0ml\u001b[0m\u001b[1;33m,\u001b[0m\u001b[0mx\u001b[0m\u001b[1;33m,\u001b[0m\u001b[0my\u001b[0m\u001b[1;33m)\u001b[0m\u001b[1;33m:\u001b[0m\u001b[1;33m\u001b[0m\u001b[1;33m\u001b[0m\u001b[0m\n\u001b[1;32m----> 5\u001b[1;33m     \u001b[0mtmp\u001b[0m\u001b[1;33m[\u001b[0m\u001b[1;33m:\u001b[0m\u001b[1;33m]\u001b[0m\u001b[1;33m=\u001b[0m\u001b[0ml\u001b[0m\u001b[1;33m\u001b[0m\u001b[1;33m\u001b[0m\u001b[0m\n\u001b[0m\u001b[0;32m      6\u001b[0m \u001b[1;31m#     l khong bi anh huong khi tmp dc update\u001b[0m\u001b[1;33m\u001b[0m\u001b[1;33m\u001b[0m\u001b[1;33m\u001b[0m\u001b[0m\n\u001b[0;32m      7\u001b[0m     \u001b[0mtmp\u001b[0m\u001b[1;33m.\u001b[0m\u001b[0minsert\u001b[0m\u001b[1;33m(\u001b[0m\u001b[0my\u001b[0m\u001b[1;33m,\u001b[0m\u001b[0mx\u001b[0m\u001b[1;33m)\u001b[0m\u001b[1;33m\u001b[0m\u001b[1;33m\u001b[0m\u001b[0m\n",
      "\u001b[1;31mNameError\u001b[0m: name 'tmp' is not defined"
     ]
    }
   ],
   "source": [
    "# dạng bài mãng không dc update liên tục theo thông số dc add vào, trả về mãng ban đầu sau mỗi lệch add\n",
    "l = [0, 9, 3, 10]\n",
    "\n",
    "def insert(l,x,y):\n",
    "    tmp[:]=l\n",
    "#     l khong bi anh huong khi tmp dc update \n",
    "    tmp.insert(y,x)\n",
    "#     insert x o vi tri y, ,uon add o vi tri cu the thi dung insert thay cho append\n",
    "    return tmp\n",
    "\n",
    "print(insert(l, -1, 1))\n",
    "# print(insert(l, -1, 2))\n",
    "# print(insert(l, \"epita\", 4))\n",
    "# print(insert(l, \"epita\", 10))\n",
    "# print(l)\n"
   ]
  },
  {
   "cell_type": "raw",
   "id": "d1cd89c1",
   "metadata": {},
   "source": [
    "Exercice 2. For the following list of dictionaries, write a script that add a field registrations which is twice the number of accepted papers."
   ]
  },
  {
   "cell_type": "code",
   "execution_count": 45,
   "id": "e8073530",
   "metadata": {},
   "outputs": [
    {
     "name": "stdout",
     "output_type": "stream",
     "text": [
      "[{'Name': 'NeurIPS', 'Date': 2016, 'Location': 'Barcelona', 'acc_papers': 300, 'registrations': 600}, {'Name': 'ICML', 'Date': 2016, 'Location': 'New York City', 'acc_papers': 450, 'registrations': 900}, {'Name': 'ICML', 'Date': 2015, 'Location': 'Lille', 'acc_papers': 250, 'registrations': 500}, {'Name': 'AISTATS', 'Date': 2016, 'Location': 'Cadiz', 'acc_papers': 100, 'registrations': 200}]\n"
     ]
    }
   ],
   "source": [
    "\n",
    "confs = [{\"Name\": \"NeurIPS\", \"Date\": 2016, \"Location\": \"Barcelona\", \"acc_papers\": 300},\n",
    "             {\"Name\": \"ICML\", \"Date\": 2016, \"Location\": \"New York City\", \"acc_papers\": 450},\n",
    "             {\"Name\": \"ICML\", \"Date\": 2015, \"Location\": \"Lille\", \"acc_papers\": 250},\n",
    "             {\"Name\": \"AISTATS\", \"Date\": 2016, \"Location\": \"Cadiz\", \"acc_papers\": 100}]\n",
    "\n",
    "for i in confs:\n",
    "    i[\"registrations\"]=i[\"acc_papers\"]*2\n",
    "#     x la key=y la value cua x \n",
    "print(confs)    "
   ]
  },
  {
   "cell_type": "raw",
   "id": "2d5da8a5",
   "metadata": {},
   "source": [
    "paris = [{\"District\": 3, \"Date\":2007, \"Pop\":34576},\n",
    "         {\"District\": 5, \"Date\":2007, \"Pop\":62664},\n",
    "         {\"District\": 6, \"Date\":2007, \"Pop\":45332},\n",
    "         {\"District\": 7, \"Date\":2007, \"Pop\":57410},\n",
    "         {\"District\": 8, \"Date\":2007, \"Pop\":39165},\n",
    "         {\"District\": 9, \"Date\":2007, \"Pop\":58632},\n",
    "         {\"District\": 10, \"Date\":2007, \"Pop\":93373},\n",
    "         {\"District\": 11, \"Date\":2007, \"Pop\":151421},\n",
    "         {\"District\": 12, \"Date\":2007, \"Pop\":142425},\n",
    "         {\"District\": 13, \"Date\":2007, \"Pop\":179213},\n",
    "         {\"District\": 14, \"Date\":2007, \"Pop\":134382},\n",
    "         {\"District\": 15, \"Date\":2007, \"Pop\":232247},\n",
    "         {\"District\": 16, \"Date\":2007, \"Pop\":159706},\n",
    "         {\"District\": 17, \"Date\":2007, \"Pop\":164673},\n",
    "         {\"District\": 18, \"Date\":2007, \"Pop\":191523},\n",
    "         {\"District\": 19, \"Date\":2007, \"Pop\":184038},\n",
    "         {\"District\": 20, \"Date\":2007, \"Pop\":194018}]"
   ]
  },
  {
   "cell_type": "code",
   "execution_count": 47,
   "id": "da23c2fa",
   "metadata": {},
   "outputs": [
    {
     "name": "stdout",
     "output_type": "stream",
     "text": [
      "[{'District': 3, 'Date': 2007, 'Pop': 34576, 'Rounded_pop': 34}, {'District': 5, 'Date': 2007, 'Pop': 62664, 'Rounded_pop': 62}, {'District': 6, 'Date': 2007, 'Pop': 45332, 'Rounded_pop': 45}, {'District': 7, 'Date': 2007, 'Pop': 57410, 'Rounded_pop': 57}, {'District': 8, 'Date': 2007, 'Pop': 39165, 'Rounded_pop': 39}, {'District': 9, 'Date': 2007, 'Pop': 58632, 'Rounded_pop': 58}, {'District': 10, 'Date': 2007, 'Pop': 93373, 'Rounded_pop': 93}, {'District': 11, 'Date': 2007, 'Pop': 151421, 'Rounded_pop': 151}, {'District': 12, 'Date': 2007, 'Pop': 142425, 'Rounded_pop': 142}, {'District': 13, 'Date': 2007, 'Pop': 179213, 'Rounded_pop': 179}, {'District': 14, 'Date': 2007, 'Pop': 134382, 'Rounded_pop': 134}, {'District': 15, 'Date': 2007, 'Pop': 232247, 'Rounded_pop': 232}, {'District': 16, 'Date': 2007, 'Pop': 159706, 'Rounded_pop': 159}, {'District': 17, 'Date': 2007, 'Pop': 164673, 'Rounded_pop': 164}, {'District': 18, 'Date': 2007, 'Pop': 191523, 'Rounded_pop': 191}, {'District': 19, 'Date': 2007, 'Pop': 184038, 'Rounded_pop': 184}, {'District': 20, 'Date': 2007, 'Pop': 194018, 'Rounded_pop': 194}]\n"
     ]
    }
   ],
   "source": [
    "# write a script that add a field Rounded_pop which discard the last 3 digits. For example we transform the value 34576 to 34\n",
    "paris = [{\"District\": 3, \"Date\":2007, \"Pop\":34576},\n",
    "         {\"District\": 5, \"Date\":2007, \"Pop\":62664},\n",
    "         {\"District\": 6, \"Date\":2007, \"Pop\":45332},\n",
    "         {\"District\": 7, \"Date\":2007, \"Pop\":57410},\n",
    "         {\"District\": 8, \"Date\":2007, \"Pop\":39165},\n",
    "         {\"District\": 9, \"Date\":2007, \"Pop\":58632},\n",
    "         {\"District\": 10, \"Date\":2007, \"Pop\":93373},\n",
    "         {\"District\": 11, \"Date\":2007, \"Pop\":151421},\n",
    "         {\"District\": 12, \"Date\":2007, \"Pop\":142425},\n",
    "         {\"District\": 13, \"Date\":2007, \"Pop\":179213},\n",
    "         {\"District\": 14, \"Date\":2007, \"Pop\":134382},\n",
    "         {\"District\": 15, \"Date\":2007, \"Pop\":232247},\n",
    "         {\"District\": 16, \"Date\":2007, \"Pop\":159706},\n",
    "         {\"District\": 17, \"Date\":2007, \"Pop\":164673},\n",
    "         {\"District\": 18, \"Date\":2007, \"Pop\":191523},\n",
    "         {\"District\": 19, \"Date\":2007, \"Pop\":184038},\n",
    "         {\"District\": 20, \"Date\":2007, \"Pop\":194018}]\n",
    "\n",
    "\n",
    "\n",
    "for i in paris:\n",
    "    i[\"Rounded_pop\"]=i[\"Pop\"]//1000\n",
    "# // chia lay so nguyen,% chia lay so du\n",
    "print(paris)\n",
    "\n",
    "X=paris[1]\n",
    "x.[\"Linh\"]=\"24\""
   ]
  },
  {
   "cell_type": "code",
   "execution_count": 59,
   "id": "e207d7a3",
   "metadata": {},
   "outputs": [
    {
     "name": "stdout",
     "output_type": "stream",
     "text": [
      "[{'District': 3, 'Date': 2007, 'Pop': 34576}, {'District': 5, 'Date': 2007, 'Pop': 62664, 'Linh': '24'}, {'District': 7, 'Date': 2007, 'Pop': 57410}, {'District': 8, 'Date': 2007, 'Pop': 39165}]\n"
     ]
    }
   ],
   "source": [
    "# Case muon add rieng cho vi tri index cu the trong Dic\n",
    "paris = [{\"District\": 3, \"Date\":2007, \"Pop\":34576},\n",
    "         {\"District\": 5, \"Date\":2007, \"Pop\":62664},\n",
    "         {\"District\": 7, \"Date\":2007, \"Pop\":57410},\n",
    "         {\"District\": 8, \"Date\":2007, \"Pop\":39165}]\n",
    "x=paris[1]\n",
    "x[\"Linh\"]=\"24\"\n",
    "print(paris)\n",
    "\n"
   ]
  },
  {
   "cell_type": "code",
   "execution_count": 51,
   "id": "b44e3dce",
   "metadata": {},
   "outputs": [
    {
     "name": "stdout",
     "output_type": "stream",
     "text": [
      "[34, 62, 45, 57, 39, 58, 93, 151, 142, 179, 134, 232, 159, 164, 191, 184, 194]\n"
     ]
    }
   ],
   "source": [
    "population= []\n",
    "for i in paris:\n",
    "    x=i['Rounded_pop']\n",
    "#     Lecture 1 method lay key va value trong dictionary\n",
    "    population.append(x)\n",
    "print(population)\n",
    "    "
   ]
  },
  {
   "cell_type": "code",
   "execution_count": 61,
   "id": "b6784f79",
   "metadata": {},
   "outputs": [
    {
     "data": {
      "text/plain": [
       "[34, 39, 45, 57, 58, 62, 93, 134, 142, 151, 159, 164, 179, 184, 191, 194, 232]"
      ]
     },
     "execution_count": 61,
     "metadata": {},
     "output_type": "execute_result"
    }
   ],
   "source": [
    "# sort by ascending order the list populations\n",
    "\n",
    "population.sort(reverse=False)\n",
    "population\n",
    "\n",
    "# reverse=True--> Descending"
   ]
  },
  {
   "cell_type": "raw",
   "id": "66d90522",
   "metadata": {},
   "source": [
    "Exercice 1.\n",
    "Generate the following arrays thanks to numpy methods and without explicit loops and without manually fill in all the numbers (let us name them respectively arr1, arr2 and arr3):\n",
    "\n",
    "[[ 0  4  8 12 16]\n",
    " [ 1  5  9 13 17]\n",
    " [ 2  6 10 14 18]\n",
    " [ 3  7 11 15 19]]\n",
    " \n",
    "[[ 0  1  4  9 16]\n",
    " [ 1  4  9 16 25]\n",
    " [ 4  9 16 25 36]\n",
    " [ 9 16 25 36 49]]\n",
    " \n",
    " \n",
    "[[0 1 0 1 0 1]\n",
    " [1 0 1 0 1 0]\n",
    " [0 1 0 1 0 1]\n",
    " [1 0 1 0 1 0]\n",
    " [0 1 0 1 0 1]\n",
    " [1 0 1 0 1 0]]"
   ]
  },
  {
   "cell_type": "code",
   "execution_count": 11,
   "id": "0a426dcc",
   "metadata": {},
   "outputs": [
    {
     "name": "stdout",
     "output_type": "stream",
     "text": [
      "[[ 0  4  8 12 16]\n",
      " [ 1  5  9 13 17]\n",
      " [ 2  6 10 14 18]\n",
      " [ 3  7 11 15 19]]\n"
     ]
    }
   ],
   "source": [
    "# arr1\n",
    "import numpy as np \n",
    "arr=np.arange(20)\n",
    "arr.resize(5,4)\n",
    "arr1=arr.T\n",
    "print(arr1)\n",
    "\n"
   ]
  },
  {
   "cell_type": "code",
   "execution_count": 90,
   "id": "4013b581",
   "metadata": {},
   "outputs": [
    {
     "name": "stdout",
     "output_type": "stream",
     "text": [
      "[[0 0 0 0 0]\n",
      " [0 0 0 0 0]\n",
      " [0 0 0 0 0]\n",
      " [0 0 0 0 0]]\n",
      "[[ 0  1  4  9 16]\n",
      " [ 1  4  9 16 25]\n",
      " [ 4  9 16 25 36]\n",
      " [ 9 16 25 36 49]]\n"
     ]
    }
   ],
   "source": [
    "# # arr2\n",
    "arr2=np.zeros((4,5),int)\n",
    "print(arr2)\n",
    "\n",
    "for i in range(4):\n",
    "    arr2[i]=np.arange(i,5+i)**2\n",
    "print(arr2)"
   ]
  },
  {
   "cell_type": "code",
   "execution_count": 94,
   "id": "3c4d9256",
   "metadata": {},
   "outputs": [
    {
     "name": "stdout",
     "output_type": "stream",
     "text": [
      "[[0 1 0 1 0 1]\n",
      " [1 0 1 0 1 0]\n",
      " [0 1 0 1 0 1]\n",
      " [1 0 1 0 1 0]\n",
      " [0 1 0 1 0 1]\n",
      " [1 0 1 0 1 0]]\n"
     ]
    }
   ],
   "source": [
    "# arr3\n",
    "arr=[[0,1],[1,0]]\n",
    "arr3=np.tile(arr,(3,3))\n",
    "print(arr3)"
   ]
  },
  {
   "cell_type": "code",
   "execution_count": 98,
   "id": "4bf59c6c",
   "metadata": {},
   "outputs": [
    {
     "name": "stdout",
     "output_type": "stream",
     "text": [
      "[[ 6 18 10]\n",
      " [ 7 19 11]\n",
      " [ 5 17  9]]\n"
     ]
    }
   ],
   "source": [
    "# extract from arr1\n",
    "arr=arr1[[2,-1,1],:]\n",
    "arr4=arr[:,[1,-1,2]]\n",
    "print(arr4)\n"
   ]
  },
  {
   "cell_type": "code",
   "execution_count": 100,
   "id": "a50da27b",
   "metadata": {},
   "outputs": [
    {
     "name": "stdout",
     "output_type": "stream",
     "text": [
      "[[-1  1 -1  1 -1  1]\n",
      " [ 1 -1  1 -1  1 -1]\n",
      " [-1  1 -1  1 -1  1]\n",
      " [ 1 -1  1 -1  1 -1]\n",
      " [-1  1 -1  1 -1  1]\n",
      " [ 1 -1  1 -1  1 -1]]\n"
     ]
    }
   ],
   "source": [
    "# Replace all the items with value 0 of arr3 by -1\n",
    "\n",
    "arr3[arr3==0]=-1\n",
    "print(arr3)"
   ]
  },
  {
   "cell_type": "raw",
   "id": "4be38003",
   "metadata": {},
   "source": [
    "# Create a random vector of size 20 (all values between \n",
    "[0,1)and replace:\n",
    "the maximum value by −1\n",
    "and the second maximum value by −2"
   ]
  },
  {
   "cell_type": "code",
   "execution_count": 110,
   "id": "51fcd80f",
   "metadata": {},
   "outputs": [
    {
     "name": "stdout",
     "output_type": "stream",
     "text": [
      "[0.74165024 0.15060196 0.07653445 0.50623642 0.78391565 0.87493599\n",
      " 0.29350617 0.47569001 0.88923553 0.65814103 0.29102208 0.17889583\n",
      " 0.31857676 0.62828358 0.41263395 0.45358437 0.18349105 0.44524421\n",
      " 0.9580741  0.68687104]\n",
      "[ 0.74165024  0.15060196  0.07653445  0.50623642  0.78391565  0.87493599\n",
      "  0.29350617  0.47569001 -2.          0.65814103  0.29102208  0.17889583\n",
      "  0.31857676  0.62828358  0.41263395  0.45358437  0.18349105  0.44524421\n",
      " -1.          0.68687104]\n"
     ]
    }
   ],
   "source": [
    "arr=np.random.rand(20)\n",
    "print(arr)\n",
    "arr[np.argmax(arr)]=-1\n",
    "arr[np.argmax(arr)]=-2\n",
    "# vi tri index co gia tri max\n",
    "print(arr)"
   ]
  },
  {
   "cell_type": "raw",
   "id": "7c2753d3",
   "metadata": {},
   "source": [
    "Generate the following array without explicit loops and without manually fill in the numbers. We will name it arr1:\n",
    "[[  0  25 100 225 400]\n",
    " [  1  36 121 256 441]\n",
    " [  4  49 144 289 484]\n",
    " [  9  64 169 324 529]\n",
    " [ 16  81 196 361 576]]"
   ]
  },
  {
   "cell_type": "code",
   "execution_count": 115,
   "id": "88980b99",
   "metadata": {},
   "outputs": [
    {
     "name": "stdout",
     "output_type": "stream",
     "text": [
      "[[0 0 0 0 0]\n",
      " [0 0 0 0 0]\n",
      " [0 0 0 0 0]\n",
      " [0 0 0 0 0]\n",
      " [0 0 0 0 0]]\n",
      "[[  0  25 100 225 400]\n",
      " [  1  36 121 256 441]\n",
      " [  4  49 144 289 484]\n",
      " [  9  64 169 324 529]\n",
      " [ 16  81 196 361 576]]\n"
     ]
    }
   ],
   "source": [
    "arr1=np.zeros((5,5),int)\n",
    "print(arr1)\n",
    "\n",
    "for i in range(5):\n",
    "    arr1[i]=np.arange(i,21+i,5)**2\n",
    "    \n",
    "print(arr1)\n",
    "# tim quy luat tang giam cua col thu 1 de xac dinh vi tri Start A trong arange(A,B,x)\n",
    "# tim binh phuong cua so cuoi row dau tien or luat cua so cuoi cua row dau tien de xac dinh B\n",
    "#  lay so binh phuong do +1 lam can stop cua vong lap\n",
    "# tim so buoc nhay cua vong lap bang cach nhin do lon cua hai so gan nhau trong mot row"
   ]
  },
  {
   "cell_type": "code",
   "execution_count": 112,
   "id": "365a52f6",
   "metadata": {},
   "outputs": [
    {
     "name": "stdout",
     "output_type": "stream",
     "text": [
      "20.0\n"
     ]
    }
   ],
   "source": [
    "# lenh tim binh phuong\n",
    "import math \n",
    "print(math.sqrt(400)) "
   ]
  },
  {
   "cell_type": "code",
   "execution_count": 125,
   "id": "b6835458",
   "metadata": {},
   "outputs": [
    {
     "name": "stdout",
     "output_type": "stream",
     "text": [
      "[[  0  25 100 225 400]\n",
      " [  1  36 121 256 441]\n",
      " [  4  49 144 289 484]\n",
      " [  9  64 169 324 529]\n",
      " [ 16  81 196 361 576]]\n"
     ]
    }
   ],
   "source": [
    "# Method 2 \n",
    "import numpy as np\n",
    "\n",
    "arr = np.arange(25)\n",
    "arr.resize(5,5)\n",
    "arr1=arr.T**2\n",
    "print(arr1)"
   ]
  },
  {
   "cell_type": "code",
   "execution_count": 126,
   "id": "5e9e39b7",
   "metadata": {},
   "outputs": [
    {
     "name": "stdout",
     "output_type": "stream",
     "text": [
      "[  0  36 144 324 576]\n"
     ]
    }
   ],
   "source": [
    "# Extract the diagonal values of arr1 (do not generate it) and call it diag1\n",
    "# lay duong cheo cua matrix\n",
    "diag1=arr1[[0,1,2,3,4],[0,1,2,3,4]]\n",
    "# diag1=arr1[np.arange(5),np.arange(5)]\n",
    "print(diag1)\n",
    "\n"
   ]
  },
  {
   "cell_type": "code",
   "execution_count": 129,
   "id": "e8784240",
   "metadata": {},
   "outputs": [
    {
     "name": "stdout",
     "output_type": "stream",
     "text": [
      "[[  0  25 100 225 400]\n",
      " [  4  49 144 289 484]\n",
      " [  1  36 121 256 441]]\n",
      "[[225 100  25]\n",
      " [289 144  49]\n",
      " [256 121  36]]\n"
     ]
    }
   ],
   "source": [
    "# From arr1, extract the submatrix:\n",
    "arr=arr1[[0,2,1],:]\n",
    "print(arr)\n",
    "subarr1=arr[:,[3,2,1]]\n",
    "print(subarr1)\n",
    "# method 2\n",
    "# subarr1 = arr1[[0, 2, 1], :][:, [3, 2, 1]]"
   ]
  },
  {
   "cell_type": "raw",
   "id": "3cab4e0f",
   "metadata": {},
   "source": [
    "Exercice 5: arrays\n",
    "Generate the following array without explicit loops and without manually fill in the numbers. We will name it arr2:\n",
    "[[10  9  8  7  6]\n",
    " [ 9  8  7  6  5]\n",
    " [ 8  7  6  5  4]\n",
    " [ 7  6  5  4  3]\n",
    " [ 6  5  4  3  2]]"
   ]
  },
  {
   "cell_type": "code",
   "execution_count": 144,
   "id": "7ab6d750",
   "metadata": {},
   "outputs": [
    {
     "name": "stdout",
     "output_type": "stream",
     "text": [
      "[[0 0 0 0 0]\n",
      " [0 0 0 0 0]\n",
      " [0 0 0 0 0]\n",
      " [0 0 0 0 0]\n",
      " [0 0 0 0 0]]\n",
      "[[10  9  8  7  6]\n",
      " [ 9  8  7  6  5]\n",
      " [ 8  7  6  5  4]\n",
      " [ 7  6  5  4  3]\n",
      " [ 6  5  4  3  2]]\n"
     ]
    }
   ],
   "source": [
    "arr2=np.zeros((5,5),int)\n",
    "print(arr2)\n",
    "\n",
    "for i in range(5):\n",
    "    arr2[i]=np.arange(10-i,5-i,-1)\n",
    "#     -1 do gia tri giam tu lon den nho\n",
    "    \n",
    "print(arr2)"
   ]
  },
  {
   "cell_type": "code",
   "execution_count": 145,
   "id": "e51edd85",
   "metadata": {},
   "outputs": [
    {
     "name": "stdout",
     "output_type": "stream",
     "text": [
      "[[10  0  8  0  6]\n",
      " [ 0  8  0  6  0]\n",
      " [ 8  0  6  0  4]\n",
      " [ 0  6  0  4  0]\n",
      " [ 6  0  4  0  2]]\n"
     ]
    }
   ],
   "source": [
    "# Replace all the even (chẳn) values of arr2 by 0 without explicit loops. You should have: \n",
    "# arr2[arr2%2==0]=0\n",
    "# print(arr2)\n",
    "# Replace all the odd (lẻ) values of arr2 by 0 without explicit loops. You should have:\n",
    "arr2[arr2%2!=0]=0\n",
    "print(arr2)"
   ]
  },
  {
   "cell_type": "code",
   "execution_count": null,
   "id": "6ee6af9f",
   "metadata": {},
   "outputs": [],
   "source": []
  }
 ],
 "metadata": {
  "kernelspec": {
   "display_name": "Python 3",
   "language": "python",
   "name": "python3"
  },
  "language_info": {
   "codemirror_mode": {
    "name": "ipython",
    "version": 3
   },
   "file_extension": ".py",
   "mimetype": "text/x-python",
   "name": "python",
   "nbconvert_exporter": "python",
   "pygments_lexer": "ipython3",
   "version": "3.8.8"
  }
 },
 "nbformat": 4,
 "nbformat_minor": 5
}
