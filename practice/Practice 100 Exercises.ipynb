{
 "cells": [
  {
   "cell_type": "markdown",
   "id": "c2e880df",
   "metadata": {},
   "source": [
    "Tim số lớn nhất, nhỏ nhất.\n",
    "\n",
    "    "
   ]
  },
  {
   "cell_type": "code",
   "execution_count": null,
   "id": "32f03a64",
   "metadata": {},
   "outputs": [],
   "source": [
    "Arr = [8,2,7,4,107,6,100]\n",
    "small_number=Arr[0]\n",
    "small_number_index=0\n",
    "\n",
    "for i in Arr :\n",
    "    if i < small_number:\n",
    "        small_number=i\n",
    "        small_number_index=Arr.index(i)\n",
    "print(small_number)\n",
    "print(small_number_index)\n"
   ]
  },
  {
   "cell_type": "markdown",
   "id": "b0b8e38a",
   "metadata": {},
   "source": [
    "Viết chương trình tìm tất cả các số chia hết cho 7 nhưng không phải bội số của 5, nằm trong đoạn 2000 và 3200 (tính cả 2000 và 3200). Các số thu được sẽ được in thành chuỗi trên một dòng, cách nhau bằng dấu phẩy."
   ]
  },
  {
   "cell_type": "code",
   "execution_count": 8,
   "id": "2880e3ef",
   "metadata": {},
   "outputs": [
    {
     "name": "stdout",
     "output_type": "stream",
     "text": [
      "2002,2009,2016,2023,2037,2044,2051,2058,2072,2079,2086,2093,2107,2114,2121,2128,2142,2149,2156,2163,2177,2184,2191,2198,2212,2219,2226,2233,2247,2254,2261,2268,2282,2289,2296,2303,2317,2324,2331,2338,2352,2359,2366,2373,2387,2394,2401,2408,2422,2429,2436,2443,2457,2464,2471,2478,2492,2499,2506,2513,2527,2534,2541,2548,2562,2569,2576,2583,2597,2604,2611,2618,2632,2639,2646,2653,2667,2674,2681,2688,2702,2709,2716,2723,2737,2744,2751,2758,2772,2779,2786,2793,2807,2814,2821,2828,2842,2849,2856,2863,2877,2884,2891,2898,2912,2919,2926,2933,2947,2954,2961,2968,2982,2989,2996,3003,3017,3024,3031,3038,3052,3059,3066,3073,3087,3094,3101,3108,3122,3129,3136,3143,3157,3164,3171,3178,3192,3199\n"
     ]
    }
   ],
   "source": [
    "Arr=[]\n",
    "\n",
    "for i in range (2000,3201):\n",
    "    if (i%7==0) and (i%5!=0):\n",
    "        Arr.append(str(i))\n",
    "        \n",
    "print (','.join(Arr))\n",
    "# Các số thu được sẽ được in thành chuỗi trên một dòng, cách nhau bằng dấu phẩy.\n",
    "    "
   ]
  },
  {
   "cell_type": "markdown",
   "id": "dfa5ff25",
   "metadata": {},
   "source": [
    "Viết một chương trình có thể tính giai thừa của một số cho trước. Kết quả được in thành chuỗi trên một dòng, phân tách bởi dấu phẩy. Ví dụ, số cho trước là 8 thì kết quả đầu ra phải là 40320.\n",
    "\n",
    "Gợi ý:\n",
    "\n",
    "Trong trường hợp dữ liệu đầu vào được cung cấp, bạn hãy chọn cách để người dùng nhập số vào."
   ]
  },
  {
   "cell_type": "code",
   "execution_count": 3,
   "id": "2437bdf8",
   "metadata": {},
   "outputs": [
    {
     "name": "stdout",
     "output_type": "stream",
     "text": [
      "Nhap so muon tinh giai thua8\n",
      "40320\n"
     ]
    }
   ],
   "source": [
    "x= int(input('Nhap so muon tinh giai thua'))\n",
    "\n",
    "def TinhGT(x):\n",
    "    if x==0:\n",
    "        return 1\n",
    "    else:\n",
    "        return (x*TinhGT(x-1))\n",
    "print(TinhGT(x))\n"
   ]
  },
  {
   "cell_type": "markdown",
   "id": "f6a17679",
   "metadata": {},
   "source": [
    "Với số nguyên n nhất định, hãy viết chương trình để tạo ra một dictionary chứa (i, i*i) như là số nguyên từ 1 đến n (bao gồm cả 1 và n) sau đó in ra dictionary này. Ví dụ: Giả sử số n là 8 thì đầu ra sẽ là: {1: 1, 2: 4, 3: 9, 4: 16, 5: 25, 6: 36, 7: 49, 8: 64}.\n"
   ]
  },
  {
   "cell_type": "code",
   "execution_count": 13,
   "id": "16429c80",
   "metadata": {},
   "outputs": [
    {
     "name": "stdout",
     "output_type": "stream",
     "text": [
      "input your number8\n",
      "{1: 1, 2: 4, 3: 9, 4: 16, 5: 25, 6: 36, 7: 49, 8: 64}\n"
     ]
    }
   ],
   "source": [
    "n=int(input('input your number'))\n",
    "\n",
    "def Dictionary(n):\n",
    "    My_Dic={}\n",
    "    for i in range (1,n+1):\n",
    "          My_Dic.update({i: i*i})\n",
    "#            My_Dic[i]=i**2\n",
    "    return My_Dic\n",
    "print(Dictionary(n))\n",
    "\n",
    "# n=int(input(\"Nhập vào một số:\"))\n",
    "# d=dict() chuyen dictionary thanh list\n",
    "# for i in range(1,n+1):\n",
    "#     d[i]=i*i\n",
    "#     #Code by Quantrimang.com\n",
    "\n",
    "# print (d)"
   ]
  },
  {
   "cell_type": "markdown",
   "id": "b107c3a5",
   "metadata": {},
   "source": [
    "Viết chương trình chấp nhận một chuỗi số, phân tách bằng dấu phẩy từ giao diện điều khiển, tạo ra một danh sách và một tuple chứa mọi số.\n",
    "\n",
    "Ví dụ: Đầu vào được cung cấp là 34,67,55,33,12,98 thì đầu ra là:\n",
    "\n",
    "['34', '67', '55', '33', '12', '98']\n",
    "('34', '67', '55', '33', '12', '98')\n",
    "Gợi ý:\n",
    "\n",
    "Viết lệnh yêu cầu nhập vào các giá trị sau đó dùng quy tắc chuyển đổi kiểu dữ liệu để hoàn tất."
   ]
  },
  {
   "cell_type": "code",
   "execution_count": 2,
   "id": "eb9a15aa",
   "metadata": {},
   "outputs": [
    {
     "name": "stdout",
     "output_type": "stream",
     "text": [
      " nhap day so bat ki12 34 56 78 90\n",
      "['12', '34', '56', '78', '90']\n",
      "('12', '34', '56', '78', '90')\n"
     ]
    }
   ],
   "source": [
    "values=input(' nhap day so bat ki')\n",
    "list1=values.split()\n",
    "tuple1=tuple(list1)\n",
    "print(list1)\n",
    "print(tuple1)\n",
    "\n"
   ]
  },
  {
   "cell_type": "markdown",
   "id": "77995ca1",
   "metadata": {},
   "source": [
    "Câu hỏi:* check lai bai nay\n",
    "\n",
    "Định nghĩa một class có ít nhất 2 method:\n",
    "\n",
    "getString: để nhận một chuỗi do người dùng nhập vào từ giao diện điều khiển.\n",
    "\n",
    "printString: in chuỗi vừa nhập sang chữ hoa.\n",
    "\n",
    "Thêm vào các hàm hiểm tra đơn giản để kiểm tra method của class."
   ]
  },
  {
   "cell_type": "code",
   "execution_count": 17,
   "id": "c9672f22",
   "metadata": {},
   "outputs": [
    {
     "name": "stdout",
     "output_type": "stream",
     "text": [
      "nhap chuoi ban muon checklinh cute\n",
      "LINH CUTE\n"
     ]
    }
   ],
   "source": [
    "class check_string(object):\n",
    "    def __init__(self):\n",
    "        self.s=\"\"\n",
    "    def input_string(self):\n",
    "        self.s=input(\"nhap chuoi ban muon check\")\n",
    "    def upper_string(self):\n",
    "        print(self.s.upper())\n",
    "    \n",
    "p1=check_string()\n",
    "p1.input_string()\n",
    "p1.upper_string()\n"
   ]
  },
  {
   "cell_type": "markdown",
   "id": "bf5243f5",
   "metadata": {},
   "source": [
    "Viết một method tính giá trị bình phương của một số."
   ]
  },
  {
   "cell_type": "code",
   "execution_count": 20,
   "id": "cb8a74be",
   "metadata": {},
   "outputs": [
    {
     "name": "stdout",
     "output_type": "stream",
     "text": [
      "nhap so ban muon tinh binh phuong3\n",
      "9\n"
     ]
    }
   ],
   "source": [
    "x=int(input('nhap so ban muon tinh binh phuong'))\n",
    "def Binhphuong(number):\n",
    "    Ketqua=number*number\n",
    "    return Ketqua\n",
    "print(Binhphuong(x))\n"
   ]
  },
  {
   "cell_type": "markdown",
   "id": "3d30610f",
   "metadata": {},
   "source": [
    "Viết chương trình và in giá trị theo công thức cho trước: Q = √([(2 * C * D)/H]) (bằng chữ: Q bằng căn bậc hai của [(2 nhân C nhân D) chia H]. Với giá trị cố định của C là 50, H là 30. D là dãy giá trị tùy biến, được nhập vào từ giao diện người dùng, các giá trị của D được phân cách bằng dấu phẩy.\n",
    "\n",
    "Ví dụ: Giả sử chuỗi giá trị của D nhập vào là 100,150,180 thì đầu ra sẽ là 18,22,24."
   ]
  },
  {
   "cell_type": "code",
   "execution_count": 32,
   "id": "3b70d8d9",
   "metadata": {
    "scrolled": true
   },
   "outputs": [
    {
     "data": {
      "text/plain": [
       "array([[[0.41113825, 0.34793358],\n",
       "        [0.99863661, 0.67520287]],\n",
       "\n",
       "       [[0.99458778, 0.90830947],\n",
       "        [0.08571614, 0.6769497 ]],\n",
       "\n",
       "       [[0.54768081, 0.5932085 ],\n",
       "        [0.53589498, 0.23857427]],\n",
       "\n",
       "       [[0.30598886, 0.05368426],\n",
       "        [0.08176213, 0.22742307]]])"
      ]
     },
     "execution_count": 32,
     "metadata": {},
     "output_type": "execute_result"
    }
   ],
   "source": []
  },
  {
   "cell_type": "code",
   "execution_count": 15,
   "id": "0e7fb693",
   "metadata": {},
   "outputs": [
    {
     "name": "stdout",
     "output_type": "stream",
     "text": [
      "nhap so n8\n",
      "{1: 1, 2: 4, 3: 9, 4: 16, 5: 25, 6: 36, 7: 49, 8: 64}\n"
     ]
    }
   ],
   "source": [
    "n=int(input(\"nhap so n\"))\n",
    "def Dic(n):\n",
    "    dictionary={}\n",
    "    for i in range (1,n+1):\n",
    "#         dictionary.update({i:i**2})\n",
    "          \n",
    "    return dictionary\n",
    "print(Dic(n))\n",
    "\n",
    "        \n",
    "        \n",
    "    "
   ]
  },
  {
   "cell_type": "code",
   "execution_count": null,
   "id": "cb07024d",
   "metadata": {},
   "outputs": [],
   "source": []
  }
 ],
 "metadata": {
  "kernelspec": {
   "display_name": "Python 3",
   "language": "python",
   "name": "python3"
  },
  "language_info": {
   "codemirror_mode": {
    "name": "ipython",
    "version": 3
   },
   "file_extension": ".py",
   "mimetype": "text/x-python",
   "name": "python",
   "nbconvert_exporter": "python",
   "pygments_lexer": "ipython3",
   "version": "3.8.8"
  }
 },
 "nbformat": 4,
 "nbformat_minor": 5
}
